{
  "cells": [
    {
      "cell_type": "markdown",
      "metadata": {
        "id": "4HbEAeDVF7Bo"
      },
      "source": [
        "# LSTM-arithmetic\n",
        "\n",
        "## Dataset\n",
        "- [Arithmetic dataset](https://drive.google.com/file/d/1cMuL3hF9jefka9RyF4gEBIGGeFGZYHE-/view?usp=sharing)"
      ]
    },
    {
      "cell_type": "code",
      "execution_count": 1,
      "metadata": {
        "colab": {
          "base_uri": "https://localhost:8080/"
        },
        "id": "FlILR2LXF7Bp",
        "outputId": "205ef53e-3ed5-46b7-e183-005384af5aeb"
      },
      "outputs": [
        {
          "name": "stderr",
          "output_type": "stream",
          "text": [
            "c:\\Users\\asdzx\\anaconda3\\envs\\yolov7\\lib\\site-packages\\tqdm\\auto.py:22: TqdmWarning: IProgress not found. Please update jupyter and ipywidgets. See https://ipywidgets.readthedocs.io/en/stable/user_install.html\n",
            "  from .autonotebook import tqdm as notebook_tqdm\n"
          ]
        }
      ],
      "source": [
        "# ! pip install seaborn\n",
        "# ! pip install -U scikit-learn\n",
        "\n",
        "import numpy as np\n",
        "import pandas as pd\n",
        "import torch\n",
        "import torch.nn\n",
        "import torch.nn.utils.rnn\n",
        "import torch.utils.data\n",
        "import matplotlib.pyplot as plt\n",
        "import seaborn as sns\n",
        "import opencc\n",
        "import os\n",
        "from sklearn.model_selection import train_test_split"
      ]
    },
    {
      "cell_type": "code",
      "execution_count": 2,
      "metadata": {
        "colab": {
          "base_uri": "https://localhost:8080/",
          "height": 206
        },
        "id": "Khb3MPu9F7Bp",
        "outputId": "7ffd70fc-e025-4266-91d5-d58421ff7100"
      },
      "outputs": [
        {
          "data": {
            "text/html": [
              "<div>\n",
              "<style scoped>\n",
              "    .dataframe tbody tr th:only-of-type {\n",
              "        vertical-align: middle;\n",
              "    }\n",
              "\n",
              "    .dataframe tbody tr th {\n",
              "        vertical-align: top;\n",
              "    }\n",
              "\n",
              "    .dataframe thead th {\n",
              "        text-align: right;\n",
              "    }\n",
              "</style>\n",
              "<table border=\"1\" class=\"dataframe\">\n",
              "  <thead>\n",
              "    <tr style=\"text-align: right;\">\n",
              "      <th></th>\n",
              "      <th>Unnamed: 0</th>\n",
              "      <th>src</th>\n",
              "      <th>tgt</th>\n",
              "    </tr>\n",
              "  </thead>\n",
              "  <tbody>\n",
              "    <tr>\n",
              "      <th>0</th>\n",
              "      <td>2285313</td>\n",
              "      <td>14*(43+20)=</td>\n",
              "      <td>882</td>\n",
              "    </tr>\n",
              "    <tr>\n",
              "      <th>1</th>\n",
              "      <td>317061</td>\n",
              "      <td>(6+1)*5=</td>\n",
              "      <td>35</td>\n",
              "    </tr>\n",
              "    <tr>\n",
              "      <th>2</th>\n",
              "      <td>718770</td>\n",
              "      <td>13+32+29=</td>\n",
              "      <td>74</td>\n",
              "    </tr>\n",
              "    <tr>\n",
              "      <th>3</th>\n",
              "      <td>170195</td>\n",
              "      <td>31*(3-11)=</td>\n",
              "      <td>-248</td>\n",
              "    </tr>\n",
              "    <tr>\n",
              "      <th>4</th>\n",
              "      <td>2581417</td>\n",
              "      <td>24*49+1=</td>\n",
              "      <td>1177</td>\n",
              "    </tr>\n",
              "  </tbody>\n",
              "</table>\n",
              "</div>"
            ],
            "text/plain": [
              "   Unnamed: 0          src   tgt\n",
              "0     2285313  14*(43+20)=   882\n",
              "1      317061     (6+1)*5=    35\n",
              "2      718770    13+32+29=    74\n",
              "3      170195   31*(3-11)=  -248\n",
              "4     2581417     24*49+1=  1177"
            ]
          },
          "execution_count": 2,
          "metadata": {},
          "output_type": "execute_result"
        }
      ],
      "source": [
        "df_train = pd.read_csv(os.path.join('arithmetic_train.csv'))\n",
        "df_eval = pd.read_csv(os.path.join('arithmetic_eval.csv'))\n",
        "df_train.head()"
      ]
    },
    {
      "cell_type": "code",
      "execution_count": 3,
      "metadata": {
        "id": "TCkAiWwKF7Bq"
      },
      "outputs": [],
      "source": [
        "# transform the input data to string\n",
        "df_train['tgt'] = df_train['tgt'].apply(lambda x: str(x))\n",
        "df_train['src'] = df_train['src'].add(df_train['tgt'])\n",
        "df_train['len'] = df_train['src'].apply(lambda x: len(x))\n",
        "\n",
        "df_eval['tgt'] = df_eval['tgt'].apply(lambda x: str(x))\n",
        "df_eval['src'] = df_eval['src'].add(df_eval['tgt'])\n",
        "df_eval['len'] = df_eval['src'].apply(lambda x: len(x))"
      ]
    },
    {
      "cell_type": "markdown",
      "metadata": {
        "id": "_hWLi9cVF7Bq"
      },
      "source": [
        "# Build Dictionary\n",
        " - The model cannot perform calculations directly with plain text.\n",
        " - Convert all text (numbers/symbols) into numerical representations.\n",
        " - Special tokens\n",
        "    - '&lt;pad&gt;'\n",
        "        - Each sentence within a batch may have different lengths.\n",
        "        - The length is padded with '&lt;pad&gt;' to match the longest sentence in the batch.\n",
        "    - '&lt;eos&gt;'\n",
        "        - Specifies the end of the generated sequence.\n",
        "        - Without '&lt;eos&gt;', the model will not know when to stop generating."
      ]
    },
    {
      "cell_type": "code",
      "execution_count": 4,
      "metadata": {
        "colab": {
          "base_uri": "https://localhost:8080/"
        },
        "id": "qo6gvrpAF7Bq",
        "outputId": "0cd5fe93-5159-45cc-ae61-5d0157f5b625"
      },
      "outputs": [
        {
          "name": "stdout",
          "output_type": "stream",
          "text": [
            "Vocab size18\n"
          ]
        }
      ],
      "source": [
        "char_to_id = {\n",
        "    \"0\"  : 0,\n",
        "    \"1\"  : 1,\n",
        "    \"2\"  : 2,\n",
        "    \"3\"  : 3,\n",
        "    \"4\"  : 4,\n",
        "    \"5\"  : 5,\n",
        "    \"6\"  : 6,\n",
        "    \"7\"  : 7,\n",
        "    \"8\"  : 8,\n",
        "    \"9\"  : 9,\n",
        "    \"<pad>\": 10,\n",
        "    \"<eos>\": 11,\n",
        "    \"+\"  : 12,\n",
        "    \"-\"  : 13,\n",
        "    \"*\"  : 14,\n",
        "    \"(\"  : 15,\n",
        "    \")\"  : 16,\n",
        "    \"=\"  : 17,\n",
        "    }\n",
        "id_to_char = {\n",
        "    0  : \"0\",\n",
        "    1  : \"1\",\n",
        "    2  : \"2\",\n",
        "    3  : \"3\",\n",
        "    4  : \"4\",\n",
        "    5  : \"5\",\n",
        "    6  : \"6\",\n",
        "    7  : \"7\",\n",
        "    8  : \"8\",\n",
        "    9  : \"9\",\n",
        "    10  : \"<pad>\",\n",
        "    11  : \"<eos>\",\n",
        "    12  : \"+\",\n",
        "    13  : \"-\",\n",
        "    14  : \"*\",\n",
        "    15  : \"(\",\n",
        "    16  : \")\",\n",
        "    17  : \"=\",\n",
        "}\n",
        "\n",
        "# write your code here\n",
        "# Build a dictionary and give every token in the train dataset an id\n",
        "# The dictionary should contain <eos> and <pad>\n",
        "# char_to_id is to conver charactors to ids, while id_to_char is the opposite\n",
        "\n",
        "vocab_size = len(char_to_id)\n",
        "print('Vocab size{}'.format(vocab_size))"
      ]
    },
    {
      "cell_type": "markdown",
      "metadata": {
        "id": "TbIf0ItQF7Bq"
      },
      "source": [
        "# Data Preprocessing\n",
        " - The data is processed into the format required for the model's input and output.\n",
        " - Example: 1+2-3=0\n",
        "     - Model input: 1 + 2 - 3 = 0\n",
        "     - Model output: / / / / / 0 &lt;eos&gt;  (the '/' can be replaced with &lt;pad&gt;)\n",
        "     - The key for the model's output is that the model does not need to predict the next character of the previous part. What matters is that once the model sees '=', it should start generating the answer, which is '0'. After generating the answer, it should also generate&lt;eos&gt;\n"
      ]
    },
    {
      "cell_type": "code",
      "execution_count": 5,
      "metadata": {
        "id": "gKQ-TBGNOPEh"
      },
      "outputs": [],
      "source": [
        "def convert_to_id(equation):\n",
        "    return [char_to_id[char] for char in equation]+ [char_to_id[\"<eos>\"]]\n",
        "\n",
        "def convert_to_char(equation):\n",
        "    return [id_to_char[char] for char in equation]+ [char_to_id[11]]\n",
        "\n",
        "def label_id_list(equation):\n",
        "    parts = equation.split('=')\n",
        "    rhs = parts[1]\n",
        "    pad_list = [char_to_id['<pad>']] * (len(parts[0])+1)\n",
        "    rhs_ids = [char_to_id[char] for char in rhs]\n",
        "    label_ids = pad_list + rhs_ids\n",
        "    return label_ids + [char_to_id[\"<eos>\"]]"
      ]
    },
    {
      "cell_type": "code",
      "execution_count": 6,
      "metadata": {
        "id": "xX4HSLrmvxft"
      },
      "outputs": [],
      "source": [
        "def label_id_list_shift(equation):\n",
        "    equation.pop(0)\n",
        "    equation.append(char_to_id['<pad>'])\n",
        "    return equation"
      ]
    },
    {
      "cell_type": "code",
      "execution_count": 7,
      "metadata": {
        "colab": {
          "base_uri": "https://localhost:8080/",
          "height": 206
        },
        "id": "P3qTj9TjF7Bq",
        "outputId": "aa77092a-d8ff-4a53-9de3-d779d6b85ed6"
      },
      "outputs": [
        {
          "data": {
            "text/html": [
              "<div>\n",
              "<style scoped>\n",
              "    .dataframe tbody tr th:only-of-type {\n",
              "        vertical-align: middle;\n",
              "    }\n",
              "\n",
              "    .dataframe tbody tr th {\n",
              "        vertical-align: top;\n",
              "    }\n",
              "\n",
              "    .dataframe thead th {\n",
              "        text-align: right;\n",
              "    }\n",
              "</style>\n",
              "<table border=\"1\" class=\"dataframe\">\n",
              "  <thead>\n",
              "    <tr style=\"text-align: right;\">\n",
              "      <th></th>\n",
              "      <th>Unnamed: 0</th>\n",
              "      <th>src</th>\n",
              "      <th>tgt</th>\n",
              "      <th>len</th>\n",
              "      <th>char_id_list</th>\n",
              "      <th>label_id_list</th>\n",
              "    </tr>\n",
              "  </thead>\n",
              "  <tbody>\n",
              "    <tr>\n",
              "      <th>0</th>\n",
              "      <td>2285313</td>\n",
              "      <td>14*(43+20)=882</td>\n",
              "      <td>882</td>\n",
              "      <td>14</td>\n",
              "      <td>[1, 4, 14, 15, 4, 3, 12, 2, 0, 16, 17, 8, 8, 2...</td>\n",
              "      <td>[10, 10, 10, 10, 10, 10, 10, 10, 10, 10, 10, 8...</td>\n",
              "    </tr>\n",
              "    <tr>\n",
              "      <th>1</th>\n",
              "      <td>317061</td>\n",
              "      <td>(6+1)*5=35</td>\n",
              "      <td>35</td>\n",
              "      <td>10</td>\n",
              "      <td>[15, 6, 12, 1, 16, 14, 5, 17, 3, 5, 11]</td>\n",
              "      <td>[10, 10, 10, 10, 10, 10, 10, 10, 3, 5, 11]</td>\n",
              "    </tr>\n",
              "    <tr>\n",
              "      <th>2</th>\n",
              "      <td>718770</td>\n",
              "      <td>13+32+29=74</td>\n",
              "      <td>74</td>\n",
              "      <td>11</td>\n",
              "      <td>[1, 3, 12, 3, 2, 12, 2, 9, 17, 7, 4, 11]</td>\n",
              "      <td>[10, 10, 10, 10, 10, 10, 10, 10, 10, 7, 4, 11]</td>\n",
              "    </tr>\n",
              "    <tr>\n",
              "      <th>3</th>\n",
              "      <td>170195</td>\n",
              "      <td>31*(3-11)=-248</td>\n",
              "      <td>-248</td>\n",
              "      <td>14</td>\n",
              "      <td>[3, 1, 14, 15, 3, 13, 1, 1, 16, 17, 13, 2, 4, ...</td>\n",
              "      <td>[10, 10, 10, 10, 10, 10, 10, 10, 10, 10, 13, 2...</td>\n",
              "    </tr>\n",
              "    <tr>\n",
              "      <th>4</th>\n",
              "      <td>2581417</td>\n",
              "      <td>24*49+1=1177</td>\n",
              "      <td>1177</td>\n",
              "      <td>12</td>\n",
              "      <td>[2, 4, 14, 4, 9, 12, 1, 17, 1, 1, 7, 7, 11]</td>\n",
              "      <td>[10, 10, 10, 10, 10, 10, 10, 10, 1, 1, 7, 7, 11]</td>\n",
              "    </tr>\n",
              "  </tbody>\n",
              "</table>\n",
              "</div>"
            ],
            "text/plain": [
              "   Unnamed: 0             src   tgt  len  \\\n",
              "0     2285313  14*(43+20)=882   882   14   \n",
              "1      317061      (6+1)*5=35    35   10   \n",
              "2      718770     13+32+29=74    74   11   \n",
              "3      170195  31*(3-11)=-248  -248   14   \n",
              "4     2581417    24*49+1=1177  1177   12   \n",
              "\n",
              "                                        char_id_list  \\\n",
              "0  [1, 4, 14, 15, 4, 3, 12, 2, 0, 16, 17, 8, 8, 2...   \n",
              "1            [15, 6, 12, 1, 16, 14, 5, 17, 3, 5, 11]   \n",
              "2           [1, 3, 12, 3, 2, 12, 2, 9, 17, 7, 4, 11]   \n",
              "3  [3, 1, 14, 15, 3, 13, 1, 1, 16, 17, 13, 2, 4, ...   \n",
              "4        [2, 4, 14, 4, 9, 12, 1, 17, 1, 1, 7, 7, 11]   \n",
              "\n",
              "                                       label_id_list  \n",
              "0  [10, 10, 10, 10, 10, 10, 10, 10, 10, 10, 10, 8...  \n",
              "1         [10, 10, 10, 10, 10, 10, 10, 10, 3, 5, 11]  \n",
              "2     [10, 10, 10, 10, 10, 10, 10, 10, 10, 7, 4, 11]  \n",
              "3  [10, 10, 10, 10, 10, 10, 10, 10, 10, 10, 13, 2...  \n",
              "4   [10, 10, 10, 10, 10, 10, 10, 10, 1, 1, 7, 7, 11]  "
            ]
          },
          "execution_count": 7,
          "metadata": {},
          "output_type": "execute_result"
        }
      ],
      "source": [
        "df_train['len'] = df_train['src'].apply(len)\n",
        "df_train['char_id_list'] = df_train['src'].apply(convert_to_id)\n",
        "df_train['label_id_list'] = df_train['src'].apply(label_id_list)\n",
        "df_train.head()\n"
      ]
    },
    {
      "cell_type": "code",
      "execution_count": 8,
      "metadata": {
        "colab": {
          "base_uri": "https://localhost:8080/",
          "height": 206
        },
        "id": "kQfLIOepKkt5",
        "outputId": "a668990e-047f-4b86-bcc0-dff51f27e75e"
      },
      "outputs": [
        {
          "data": {
            "text/html": [
              "<div>\n",
              "<style scoped>\n",
              "    .dataframe tbody tr th:only-of-type {\n",
              "        vertical-align: middle;\n",
              "    }\n",
              "\n",
              "    .dataframe tbody tr th {\n",
              "        vertical-align: top;\n",
              "    }\n",
              "\n",
              "    .dataframe thead th {\n",
              "        text-align: right;\n",
              "    }\n",
              "</style>\n",
              "<table border=\"1\" class=\"dataframe\">\n",
              "  <thead>\n",
              "    <tr style=\"text-align: right;\">\n",
              "      <th></th>\n",
              "      <th>Unnamed: 0</th>\n",
              "      <th>src</th>\n",
              "      <th>tgt</th>\n",
              "      <th>len</th>\n",
              "      <th>char_id_list</th>\n",
              "      <th>label_id_list</th>\n",
              "    </tr>\n",
              "  </thead>\n",
              "  <tbody>\n",
              "    <tr>\n",
              "      <th>0</th>\n",
              "      <td>2573208</td>\n",
              "      <td>48+43+34=125</td>\n",
              "      <td>125</td>\n",
              "      <td>12</td>\n",
              "      <td>[4, 8, 12, 4, 3, 12, 3, 4, 17, 1, 2, 5, 11]</td>\n",
              "      <td>[10, 10, 10, 10, 10, 10, 10, 10, 10, 1, 2, 5, 11]</td>\n",
              "    </tr>\n",
              "    <tr>\n",
              "      <th>1</th>\n",
              "      <td>1630340</td>\n",
              "      <td>30-(48+13)=-31</td>\n",
              "      <td>-31</td>\n",
              "      <td>14</td>\n",
              "      <td>[3, 0, 13, 15, 4, 8, 12, 1, 3, 16, 17, 13, 3, ...</td>\n",
              "      <td>[10, 10, 10, 10, 10, 10, 10, 10, 10, 10, 10, 1...</td>\n",
              "    </tr>\n",
              "    <tr>\n",
              "      <th>2</th>\n",
              "      <td>549277</td>\n",
              "      <td>(21*31)+10=661</td>\n",
              "      <td>661</td>\n",
              "      <td>14</td>\n",
              "      <td>[15, 2, 1, 14, 3, 1, 16, 12, 1, 0, 17, 6, 6, 1...</td>\n",
              "      <td>[10, 10, 10, 10, 10, 10, 10, 10, 10, 10, 10, 6...</td>\n",
              "    </tr>\n",
              "    <tr>\n",
              "      <th>3</th>\n",
              "      <td>133957</td>\n",
              "      <td>2-27-10=-35</td>\n",
              "      <td>-35</td>\n",
              "      <td>11</td>\n",
              "      <td>[2, 13, 2, 7, 13, 1, 0, 17, 13, 3, 5, 11]</td>\n",
              "      <td>[10, 10, 10, 10, 10, 10, 10, 10, 13, 3, 5, 11]</td>\n",
              "    </tr>\n",
              "    <tr>\n",
              "      <th>4</th>\n",
              "      <td>1279828</td>\n",
              "      <td>(15*20)+24=324</td>\n",
              "      <td>324</td>\n",
              "      <td>14</td>\n",
              "      <td>[15, 1, 5, 14, 2, 0, 16, 12, 2, 4, 17, 3, 2, 4...</td>\n",
              "      <td>[10, 10, 10, 10, 10, 10, 10, 10, 10, 10, 10, 3...</td>\n",
              "    </tr>\n",
              "  </tbody>\n",
              "</table>\n",
              "</div>"
            ],
            "text/plain": [
              "   Unnamed: 0             src  tgt  len  \\\n",
              "0     2573208    48+43+34=125  125   12   \n",
              "1     1630340  30-(48+13)=-31  -31   14   \n",
              "2      549277  (21*31)+10=661  661   14   \n",
              "3      133957     2-27-10=-35  -35   11   \n",
              "4     1279828  (15*20)+24=324  324   14   \n",
              "\n",
              "                                        char_id_list  \\\n",
              "0        [4, 8, 12, 4, 3, 12, 3, 4, 17, 1, 2, 5, 11]   \n",
              "1  [3, 0, 13, 15, 4, 8, 12, 1, 3, 16, 17, 13, 3, ...   \n",
              "2  [15, 2, 1, 14, 3, 1, 16, 12, 1, 0, 17, 6, 6, 1...   \n",
              "3          [2, 13, 2, 7, 13, 1, 0, 17, 13, 3, 5, 11]   \n",
              "4  [15, 1, 5, 14, 2, 0, 16, 12, 2, 4, 17, 3, 2, 4...   \n",
              "\n",
              "                                       label_id_list  \n",
              "0  [10, 10, 10, 10, 10, 10, 10, 10, 10, 1, 2, 5, 11]  \n",
              "1  [10, 10, 10, 10, 10, 10, 10, 10, 10, 10, 10, 1...  \n",
              "2  [10, 10, 10, 10, 10, 10, 10, 10, 10, 10, 10, 6...  \n",
              "3     [10, 10, 10, 10, 10, 10, 10, 10, 13, 3, 5, 11]  \n",
              "4  [10, 10, 10, 10, 10, 10, 10, 10, 10, 10, 10, 3...  "
            ]
          },
          "execution_count": 8,
          "metadata": {},
          "output_type": "execute_result"
        }
      ],
      "source": [
        "df_eval['len'] = df_eval['src'].apply(len)\n",
        "df_eval['char_id_list'] = df_eval['src'].apply(convert_to_id)\n",
        "df_eval['label_id_list'] = df_eval['src'].apply(label_id_list)\n",
        "df_eval.head()"
      ]
    },
    {
      "cell_type": "code",
      "execution_count": 9,
      "metadata": {
        "colab": {
          "base_uri": "https://localhost:8080/",
          "height": 206
        },
        "id": "jOKxQg_lv0Hc",
        "outputId": "2323fc62-f5e7-4064-f2d4-86d44c12190d"
      },
      "outputs": [
        {
          "data": {
            "text/html": [
              "<div>\n",
              "<style scoped>\n",
              "    .dataframe tbody tr th:only-of-type {\n",
              "        vertical-align: middle;\n",
              "    }\n",
              "\n",
              "    .dataframe tbody tr th {\n",
              "        vertical-align: top;\n",
              "    }\n",
              "\n",
              "    .dataframe thead th {\n",
              "        text-align: right;\n",
              "    }\n",
              "</style>\n",
              "<table border=\"1\" class=\"dataframe\">\n",
              "  <thead>\n",
              "    <tr style=\"text-align: right;\">\n",
              "      <th></th>\n",
              "      <th>Unnamed: 0</th>\n",
              "      <th>src</th>\n",
              "      <th>tgt</th>\n",
              "      <th>len</th>\n",
              "      <th>char_id_list</th>\n",
              "      <th>label_id_list</th>\n",
              "    </tr>\n",
              "  </thead>\n",
              "  <tbody>\n",
              "    <tr>\n",
              "      <th>0</th>\n",
              "      <td>2573208</td>\n",
              "      <td>48+43+34=125</td>\n",
              "      <td>125</td>\n",
              "      <td>12</td>\n",
              "      <td>[4, 8, 12, 4, 3, 12, 3, 4, 17, 1, 2, 5, 11]</td>\n",
              "      <td>[10, 10, 10, 10, 10, 10, 10, 10, 1, 2, 5, 11, 10]</td>\n",
              "    </tr>\n",
              "    <tr>\n",
              "      <th>1</th>\n",
              "      <td>1630340</td>\n",
              "      <td>30-(48+13)=-31</td>\n",
              "      <td>-31</td>\n",
              "      <td>14</td>\n",
              "      <td>[3, 0, 13, 15, 4, 8, 12, 1, 3, 16, 17, 13, 3, ...</td>\n",
              "      <td>[10, 10, 10, 10, 10, 10, 10, 10, 10, 10, 13, 3...</td>\n",
              "    </tr>\n",
              "    <tr>\n",
              "      <th>2</th>\n",
              "      <td>549277</td>\n",
              "      <td>(21*31)+10=661</td>\n",
              "      <td>661</td>\n",
              "      <td>14</td>\n",
              "      <td>[15, 2, 1, 14, 3, 1, 16, 12, 1, 0, 17, 6, 6, 1...</td>\n",
              "      <td>[10, 10, 10, 10, 10, 10, 10, 10, 10, 10, 6, 6,...</td>\n",
              "    </tr>\n",
              "    <tr>\n",
              "      <th>3</th>\n",
              "      <td>133957</td>\n",
              "      <td>2-27-10=-35</td>\n",
              "      <td>-35</td>\n",
              "      <td>11</td>\n",
              "      <td>[2, 13, 2, 7, 13, 1, 0, 17, 13, 3, 5, 11]</td>\n",
              "      <td>[10, 10, 10, 10, 10, 10, 10, 13, 3, 5, 11, 10]</td>\n",
              "    </tr>\n",
              "    <tr>\n",
              "      <th>4</th>\n",
              "      <td>1279828</td>\n",
              "      <td>(15*20)+24=324</td>\n",
              "      <td>324</td>\n",
              "      <td>14</td>\n",
              "      <td>[15, 1, 5, 14, 2, 0, 16, 12, 2, 4, 17, 3, 2, 4...</td>\n",
              "      <td>[10, 10, 10, 10, 10, 10, 10, 10, 10, 10, 3, 2,...</td>\n",
              "    </tr>\n",
              "  </tbody>\n",
              "</table>\n",
              "</div>"
            ],
            "text/plain": [
              "   Unnamed: 0             src  tgt  len  \\\n",
              "0     2573208    48+43+34=125  125   12   \n",
              "1     1630340  30-(48+13)=-31  -31   14   \n",
              "2      549277  (21*31)+10=661  661   14   \n",
              "3      133957     2-27-10=-35  -35   11   \n",
              "4     1279828  (15*20)+24=324  324   14   \n",
              "\n",
              "                                        char_id_list  \\\n",
              "0        [4, 8, 12, 4, 3, 12, 3, 4, 17, 1, 2, 5, 11]   \n",
              "1  [3, 0, 13, 15, 4, 8, 12, 1, 3, 16, 17, 13, 3, ...   \n",
              "2  [15, 2, 1, 14, 3, 1, 16, 12, 1, 0, 17, 6, 6, 1...   \n",
              "3          [2, 13, 2, 7, 13, 1, 0, 17, 13, 3, 5, 11]   \n",
              "4  [15, 1, 5, 14, 2, 0, 16, 12, 2, 4, 17, 3, 2, 4...   \n",
              "\n",
              "                                       label_id_list  \n",
              "0  [10, 10, 10, 10, 10, 10, 10, 10, 1, 2, 5, 11, 10]  \n",
              "1  [10, 10, 10, 10, 10, 10, 10, 10, 10, 10, 13, 3...  \n",
              "2  [10, 10, 10, 10, 10, 10, 10, 10, 10, 10, 6, 6,...  \n",
              "3     [10, 10, 10, 10, 10, 10, 10, 13, 3, 5, 11, 10]  \n",
              "4  [10, 10, 10, 10, 10, 10, 10, 10, 10, 10, 3, 2,...  "
            ]
          },
          "execution_count": 9,
          "metadata": {},
          "output_type": "execute_result"
        }
      ],
      "source": [
        "df_train['label_id_list'] = df_train['label_id_list'].apply(label_id_list_shift)\n",
        "df_eval['label_id_list'] = df_eval['label_id_list'].apply(label_id_list_shift)\n",
        "df_eval.head()"
      ]
    },
    {
      "cell_type": "markdown",
      "metadata": {
        "id": "0Hz4obDCF7Bq"
      },
      "source": [
        "# Hyper Parameters\n",
        "\n",
        "|Hyperparameter|Meaning|Value|\n",
        "|-|-|-|\n",
        "|`batch_size`|Number of data samples in a single batch|64|\n",
        "|`epochs`|Total number of epochs to train|10|\n",
        "|`embed_dim`|Dimension of the word embeddings|256|\n",
        "|`hidden_dim`|Dimension of the hidden state in each timestep of the LSTM|256|\n",
        "|`lr`|Learning Rate|0.001|\n",
        "|`grad_clip`|To prevent gradient explosion in RNNs, restrict the gradient range|1|"
      ]
    },
    {
      "cell_type": "code",
      "execution_count": 10,
      "metadata": {
        "id": "Vl6q29DIF7Bq"
      },
      "outputs": [],
      "source": [
        "batch_size = 1024\n",
        "epochs = 8\n",
        "embed_dim = 256\n",
        "hidden_dim = 256\n",
        "lr = 0.001\n",
        "grad_clip = 1"
      ]
    },
    {
      "cell_type": "markdown",
      "metadata": {
        "id": "3FxVmfvhF7Bq"
      },
      "source": [
        "# Data Batching\n",
        "- Use `torch.utils.data.Dataset` to create a data generation tool called  `dataset`.\n",
        "- The, use `torch.utils.data.DataLoader` to randomly sample from the `dataset` and group the samples into batches."
      ]
    },
    {
      "cell_type": "code",
      "execution_count": 11,
      "metadata": {
        "id": "7o28DnTiF7Br"
      },
      "outputs": [],
      "source": [
        "import torch\n",
        "class Dataset(torch.utils.data.Dataset):\n",
        "    def __init__(self, sequences):\n",
        "        self.sequences = sequences\n",
        "\n",
        "    def __len__(self):\n",
        "        return len(self.sequences)\n",
        "\n",
        "    def __getitem__(self, index):\n",
        "        # Extract the input data x and the ground truth y from the data\n",
        "        sequence = self.sequences.iloc[index]\n",
        "\n",
        "        x = sequence['char_id_list']\n",
        "        y = sequence['label_id_list']\n",
        "\n",
        "        return x, y\n",
        "\n",
        "# collate function, used to build dataloader\n",
        "def collate_fn(batch):\n",
        "    batch_x = [torch.tensor(data[0]) for data in batch]\n",
        "    batch_y = [torch.tensor(data[1]) for data in batch]\n",
        "    batch_x_lens = torch.LongTensor([len(x) for x in batch_x])\n",
        "    batch_y_lens = torch.LongTensor([len(y) for y in batch_y])\n",
        "\n",
        "    # Pad the input sequence\n",
        "    pad_batch_x = torch.nn.utils.rnn.pad_sequence(batch_x,\n",
        "                                                  batch_first=True,\n",
        "                                                  padding_value=char_to_id['<pad>'])\n",
        "\n",
        "    pad_batch_y = torch.nn.utils.rnn.pad_sequence(batch_y,\n",
        "                                                  batch_first=True,\n",
        "                                                  padding_value=char_to_id['<pad>'])\n",
        "    return pad_batch_x, pad_batch_y, batch_x_lens, batch_y_lens"
      ]
    },
    {
      "cell_type": "code",
      "execution_count": 12,
      "metadata": {
        "id": "RBwoqTWzF7Br"
      },
      "outputs": [],
      "source": [
        "ds_train = Dataset(df_train[['char_id_list', 'label_id_list']])\n",
        "ds_eval = Dataset(df_eval[['char_id_list', 'label_id_list']])"
      ]
    },
    {
      "cell_type": "code",
      "execution_count": 13,
      "metadata": {
        "id": "U1hBY6fJF7Br"
      },
      "outputs": [],
      "source": [
        "from torch.utils.data import DataLoader\n",
        "# Build dataloader of train set and eval set, collate_fn is the collate function\n",
        "dl_train = DataLoader(dataset=ds_train, batch_size= batch_size, shuffle= True, collate_fn = collate_fn)\n",
        "dl_eval = DataLoader(dataset=ds_eval, batch_size= batch_size, shuffle= False, collate_fn=collate_fn)"
      ]
    },
    {
      "cell_type": "code",
      "execution_count": 14,
      "metadata": {
        "colab": {
          "base_uri": "https://localhost:8080/"
        },
        "id": "qkSOrZQP48Yb",
        "outputId": "e9d5d45c-7943-4d62-e282-69b07bf97e1f"
      },
      "outputs": [
        {
          "name": "stdout",
          "output_type": "stream",
          "text": [
            "Inputs (batch_x): tensor([ 2,  3, 12,  2,  3, 12,  4,  5, 17,  9,  1, 11, 10, 10, 10, 10, 10])\n",
            "Labels (batch_y): tensor([10, 10, 10, 10, 10, 10, 10, 10,  9,  1, 11, 10, 10, 10, 10, 10, 10])\n",
            "Input lengths (batch_x_lens): tensor(12)\n",
            "Label lengths (batch_y_lens): tensor(12)\n"
          ]
        }
      ],
      "source": [
        "first_batch = next(iter(dl_train))\n",
        "batch_x, batch_y, batch_x_lens, batch_y_lens = first_batch\n",
        "\n",
        "# 印出資料\n",
        "print(\"Inputs (batch_x):\", batch_x[1])\n",
        "print(\"Labels (batch_y):\", batch_y[1])\n",
        "print(\"Input lengths (batch_x_lens):\", batch_x_lens[1])\n",
        "print(\"Label lengths (batch_y_lens):\", batch_y_lens[1])"
      ]
    },
    {
      "cell_type": "markdown",
      "metadata": {
        "id": "H6gqbqo7F7Br"
      },
      "source": [
        "# Model Design\n",
        "\n",
        "## Execution Flow\n",
        "1. Convert all characters in the sentence into embeddings.\n",
        "2. Pass the embeddings through an LSTM sequentially.\n",
        "3. The output of the LSTM is passed into another LSTM, and additional layers can be added.\n",
        "4. The output from all time steps of the final LSTM is passed through a Fully Connected layer.\n",
        "5. The character corresponding to the maximum value across all output dimensions is selected as the next character.\n",
        "\n",
        "## Loss Function\n",
        "Since this is a classification task, Cross Entropy is used as the loss function.\n",
        "\n",
        "## Gradient Update\n",
        "Adam algorithm is used for gradient updates."
      ]
    },
    {
      "cell_type": "code",
      "execution_count": 15,
      "metadata": {
        "id": "lH4f9AMyF7Br"
      },
      "outputs": [],
      "source": [
        "class CharRNN(torch.nn.Module):\n",
        "    def __init__(self, vocab_size, embed_dim, hidden_dim):\n",
        "        super(CharRNN, self).__init__()\n",
        "\n",
        "        self.embedding = torch.nn.Embedding(num_embeddings=vocab_size,\n",
        "                                            embedding_dim=embed_dim,\n",
        "                                            padding_idx=char_to_id['<pad>'])\n",
        "\n",
        "        self.rnn_layer1 = torch.nn.GRU(input_size=embed_dim,\n",
        "                                        hidden_size=hidden_dim,\n",
        "                                        batch_first=True)\n",
        "\n",
        "        self.rnn_layer2 = torch.nn.GRU(input_size=hidden_dim,\n",
        "                                        hidden_size=hidden_dim,\n",
        "                                        batch_first=True)\n",
        "\n",
        "        self.linear = torch.nn.Sequential(torch.nn.Linear(in_features=hidden_dim,\n",
        "                                                          out_features=hidden_dim),\n",
        "                                          torch.nn.ReLU(),\n",
        "                                          torch.nn.Linear(in_features=hidden_dim,\n",
        "                                                          out_features=vocab_size))\n",
        "\n",
        "    def forward(self, batch_x, batch_x_lens):\n",
        "        return self.encoder(batch_x, batch_x_lens)\n",
        "\n",
        "    # The forward pass of the model\n",
        "    def encoder(self, batch_x, batch_x_lens):\n",
        "        batch_x = self.embedding(batch_x)\n",
        "\n",
        "        batch_x = torch.nn.utils.rnn.pack_padded_sequence(batch_x,batch_x_lens,batch_first=True,enforce_sorted=False)\n",
        "\n",
        "        batch_x, _ = self.rnn_layer1(batch_x)\n",
        "        batch_x, _ = self.rnn_layer2(batch_x)\n",
        "\n",
        "        batch_x, _ = torch.nn.utils.rnn.pad_packed_sequence(batch_x,batch_first=True)\n",
        "\n",
        "        batch_x = self.linear(batch_x)\n",
        "\n",
        "        return batch_x\n",
        "\n",
        "    def generator(self, start_char, max_len=200):\n",
        "        # Initialize char_list with the token ids for the start_char sequence\n",
        "        char_list = [char_to_id[c] for c in start_char]\n",
        "        next_char = None\n",
        "        # We will iterate to predict the next characters\n",
        "        while len(char_list) < max_len:\n",
        "            # Write your code here\n",
        "            # Pack the char_list to tensor\n",
        "            # Input the tensor to the embedding layer, LSTM layers, linear respectively\n",
        "\n",
        "            current_seq = torch.tensor(char_list).unsqueeze(0).to(next(self.parameters()).device)\n",
        "            current_seq_emb = self.embedding(current_seq)\n",
        "            output, _ = self.rnn_layer1(current_seq_emb)\n",
        "            output, _ = self.rnn_layer2(output)\n",
        "            logits = self.linear(output)\n",
        "            y = logits[:, -1, :]\n",
        "            next_char = torch.argmax(y, dim=-1).item() # Obtain the next token prediction y\n",
        "            print(next_char)\n",
        "            if next_char == char_to_id['<eos>']:\n",
        "                break\n",
        "            char_list.append(next_char)\n",
        "        return [id_to_char[ch_id] for ch_id in char_list]"
      ]
    },
    {
      "cell_type": "code",
      "execution_count": 16,
      "metadata": {
        "id": "c6wZDQJ_F7Br"
      },
      "outputs": [],
      "source": [
        "torch.manual_seed(2)\n",
        "\n",
        "\n",
        "device = torch.device(\"cuda:0\" if torch.cuda.is_available() else \"cpu\")\n",
        "\n",
        "model = CharRNN(vocab_size,\n",
        "                embed_dim,\n",
        "                hidden_dim)"
      ]
    },
    {
      "cell_type": "code",
      "execution_count": 17,
      "metadata": {
        "id": "zh1sz4UKF7Br"
      },
      "outputs": [],
      "source": [
        "criterion = torch.nn.CrossEntropyLoss(ignore_index=char_to_id['<pad>'])\n",
        "optimizer = torch.optim.AdamW(model.parameters(), lr=0.001)"
      ]
    },
    {
      "cell_type": "markdown",
      "metadata": {
        "id": "tmQylizBF7Br"
      },
      "source": [
        "# Training\n",
        "1. The outer `for` loop controls the `epoch`\n",
        "    1. The inner `for` loop uses `data_loader` to retrieve batches.\n",
        "        1. Pass the batch to the `model` for training.\n",
        "        2. Compare the predicted results `batch_pred_y` with the true labels `batch_y` using Cross Entropy to calculate the loss `loss`\n",
        "        3. Use `loss.backward` to automatically compute the gradients.\n",
        "        4. Use `torch.nn.utils.clip_grad_value_` to limit the gradient values between `-grad_clip` &lt; and &lt; `grad_clip`.\n",
        "        5. Use `optimizer.step()` to update the model (backpropagation).\n",
        "2.  After every `1000` batches, output the current loss to monitor whether it is converging."
      ]
    },
    {
      "cell_type": "code",
      "execution_count": 18,
      "metadata": {
        "colab": {
          "base_uri": "https://localhost:8080/",
          "height": 1000
        },
        "id": "ApcarVrKCR9V",
        "outputId": "6a12142a-6e05-4d71-df0c-973ccc20d603"
      },
      "outputs": [
        {
          "name": "stderr",
          "output_type": "stream",
          "text": [
            "Train epoch 1: 100%|██████████| 2314/2314 [03:19<00:00, 11.57it/s, loss=0.532]\n",
            "Validation epoch 1: 100%|██████████| 258/258 [02:26<00:00,  1.76it/s]\n"
          ]
        },
        {
          "name": "stdout",
          "output_type": "stream",
          "text": [
            "Exact Match: 0.722707131620346\n"
          ]
        },
        {
          "name": "stderr",
          "output_type": "stream",
          "text": [
            "Train epoch 2: 100%|██████████| 2314/2314 [03:19<00:00, 11.62it/s, loss=0.323]\n",
            "Validation epoch 2: 100%|██████████| 258/258 [02:51<00:00,  1.51it/s]\n"
          ]
        },
        {
          "name": "stdout",
          "output_type": "stream",
          "text": [
            "Exact Match: 0.7782223387519664\n"
          ]
        },
        {
          "name": "stderr",
          "output_type": "stream",
          "text": [
            "Train epoch 3: 100%|██████████| 2314/2314 [03:27<00:00, 11.14it/s, loss=0.32] \n",
            "Validation epoch 3: 100%|██████████| 258/258 [02:50<00:00,  1.52it/s]\n"
          ]
        },
        {
          "name": "stdout",
          "output_type": "stream",
          "text": [
            "Exact Match: 0.8132275825904562\n"
          ]
        },
        {
          "name": "stderr",
          "output_type": "stream",
          "text": [
            "Train epoch 4: 100%|██████████| 2314/2314 [03:25<00:00, 11.27it/s, loss=0.332]\n",
            "Validation epoch 4: 100%|██████████| 258/258 [02:38<00:00,  1.62it/s]\n"
          ]
        },
        {
          "name": "stdout",
          "output_type": "stream",
          "text": [
            "Exact Match: 0.7976127425275301\n"
          ]
        },
        {
          "name": "stderr",
          "output_type": "stream",
          "text": [
            "Train epoch 5: 100%|██████████| 2314/2314 [03:29<00:00, 11.02it/s, loss=0.247]\n",
            "Validation epoch 5: 100%|██████████| 258/258 [02:56<00:00,  1.46it/s]\n"
          ]
        },
        {
          "name": "stdout",
          "output_type": "stream",
          "text": [
            "Exact Match: 0.8594480859989513\n"
          ]
        },
        {
          "name": "stderr",
          "output_type": "stream",
          "text": [
            "Train epoch 6: 100%|██████████| 2314/2314 [03:34<00:00, 10.80it/s, loss=0.218]\n",
            "Validation epoch 6: 100%|██████████| 258/258 [02:55<00:00,  1.47it/s]\n"
          ]
        },
        {
          "name": "stdout",
          "output_type": "stream",
          "text": [
            "Exact Match: 0.8789604090194022\n"
          ]
        },
        {
          "name": "stderr",
          "output_type": "stream",
          "text": [
            "Train epoch 7: 100%|██████████| 2314/2314 [03:23<00:00, 11.38it/s, loss=0.164]\n",
            "Validation epoch 7: 100%|██████████| 258/258 [02:49<00:00,  1.53it/s]\n"
          ]
        },
        {
          "name": "stdout",
          "output_type": "stream",
          "text": [
            "Exact Match: 0.8797810697430519\n"
          ]
        },
        {
          "name": "stderr",
          "output_type": "stream",
          "text": [
            "Train epoch 8: 100%|██████████| 2314/2314 [03:33<00:00, 10.84it/s, loss=0.157]\n",
            "Validation epoch 8: 100%|██████████| 258/258 [02:53<00:00,  1.49it/s]"
          ]
        },
        {
          "name": "stdout",
          "output_type": "stream",
          "text": [
            "Exact Match: 0.9170896696381752\n"
          ]
        },
        {
          "name": "stderr",
          "output_type": "stream",
          "text": [
            "\n"
          ]
        }
      ],
      "source": [
        "from tqdm import tqdm\n",
        "from copy import deepcopy\n",
        "model = model.to(device)\n",
        "i = 0\n",
        "for epoch in range(1, epochs+1):\n",
        "    model.train()\n",
        "    # The process bar\n",
        "    bar = tqdm(dl_train, desc=f\"Train epoch {epoch}\")\n",
        "    for batch_x, batch_y, batch_x_lens, batch_y_lens in bar:\n",
        "        optimizer.zero_grad()\n",
        "        # Write your code here\n",
        "        # Clear the gradient\n",
        "\n",
        "        batch_pred_y = model(batch_x.to(device), batch_x_lens)\n",
        "        loss = criterion(batch_pred_y.view(-1, vocab_size), batch_y.to(device).view(-1))\n",
        "        loss.backward()\n",
        "\n",
        "        # Write your code here\n",
        "        # Input the prediction and ground truths to loss function\n",
        "        # Back propagation\n",
        "\n",
        "        torch.nn.utils.clip_grad_value_(model.parameters(), grad_clip)\n",
        "        optimizer.step()\n",
        "\n",
        "        # Write your code here\n",
        "        # Optimize parameters in the model\n",
        "        i+=1\n",
        "        if i%50==0:\n",
        "            bar.set_postfix(loss = loss.item())\n",
        "\n",
        "    # Evaluate your model\n",
        "    model.eval()\n",
        "    bar = tqdm(dl_eval, desc=f\"Validation epoch {epoch}\")\n",
        "    matched = 0\n",
        "    total = 0\n",
        "    for batch_x, batch_y, batch_x_lens, batch_y_lens in bar:\n",
        "        batch_y = batch_y.to(device)\n",
        "        predictions = model(batch_x.to(device), batch_x_lens)# Write your code here. Input the batch_x to the model and generate the predictions\n",
        "        pred_tokens = predictions.argmax(dim=-1)\n",
        "        for i in range(pred_tokens.size(0)):\n",
        "            mask = (batch_y[i] != char_to_id['<pad>']) & (batch_y[i] != char_to_id['<eos>'])\n",
        "            filtered_preds = pred_tokens[i][mask]\n",
        "            filtered_labels = batch_y[i][mask]\n",
        "            matched += (filtered_preds == filtered_labels).sum().item()\n",
        "            total += filtered_labels.numel()  # Only count valid tokens for total\n",
        "\n",
        "        # for i in range(pred_tokens.size(0)):\n",
        "        #   print(pred_tokens[0],\"ccccc\\n\",batch_y[0])\n",
        "        #   if torch.equal(pred_tokens[i], batch_y[i]):\n",
        "        #     matched += 1\n",
        "        #   total += 1\n",
        "\n",
        "\n",
        "        # for i in range(pred_tokens.size(0)):\n",
        "        #     for j in range(len(pred_tokens[i])):\n",
        "        #         if pred_tokens[i][j] != char_to_id['<eos>'] or pred_tokens[i][j] != char_to_id['<pad>']:\n",
        "        #             total += 1\n",
        "        #             if pred_tokens[i][j] == batch_y[i][j]:\n",
        "        #                 matched += 1\n",
        "    print(f\"Exact Match: {matched / total}\")\n",
        "        # Write your code here.\n",
        "        # Check whether the prediction match the ground truths\n",
        "        # Compute exact match (EM) on the eval dataset\n",
        "        # EM = correct/total"
      ]
    },
    {
      "cell_type": "code",
      "execution_count": 19,
      "metadata": {},
      "outputs": [],
      "source": [
        "torch.save(model, 'LSTM.pt')"
      ]
    },
    {
      "cell_type": "markdown",
      "metadata": {
        "id": "rB41GHN-F7Br"
      },
      "source": [
        "# Generation\n",
        "Use `model.generator` and provide an initial character to automatically generate a sequence."
      ]
    },
    {
      "cell_type": "code",
      "execution_count": 20,
      "metadata": {
        "colab": {
          "base_uri": "https://localhost:8080/"
        },
        "id": "x7orjRsUF7Br",
        "outputId": "7853a476-dac8-4568-e1da-23067b84f6b7"
      },
      "outputs": [
        {
          "name": "stdout",
          "output_type": "stream",
          "text": [
            "3\n",
            "4\n",
            "11\n",
            "22+12=34\n"
          ]
        }
      ],
      "source": [
        "model = model.to(\"cpu\")\n",
        "print(\"\".join(model.generator('22+12=')))"
      ]
    },
    {
      "cell_type": "code",
      "execution_count": null,
      "metadata": {},
      "outputs": [],
      "source": []
    }
  ],
  "metadata": {
    "accelerator": "GPU",
    "colab": {
      "gpuType": "T4",
      "provenance": [],
      "toc_visible": true
    },
    "kernelspec": {
      "display_name": "yolov7",
      "language": "python",
      "name": "python3"
    },
    "language_info": {
      "codemirror_mode": {
        "name": "ipython",
        "version": 3
      },
      "file_extension": ".py",
      "mimetype": "text/x-python",
      "name": "python",
      "nbconvert_exporter": "python",
      "pygments_lexer": "ipython3",
      "version": "3.8.16"
    }
  },
  "nbformat": 4,
  "nbformat_minor": 0
}
