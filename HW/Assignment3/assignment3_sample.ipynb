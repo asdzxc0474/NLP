{
 "cells": [
  {
   "cell_type": "code",
   "execution_count": 1,
   "metadata": {
    "colab": {
     "base_uri": "https://localhost:8080/"
    },
    "id": "PAZtI30sWewa",
    "outputId": "9122ad96-3750-41d2-a349-667cd06cac08"
   },
   "outputs": [
    {
     "name": "stderr",
     "output_type": "stream",
     "text": [
      "c:\\Users\\asdzx\\anaconda3\\envs\\yolov7\\lib\\site-packages\\tqdm\\auto.py:21: TqdmWarning: IProgress not found. Please update jupyter and ipywidgets. See https://ipywidgets.readthedocs.io/en/stable/user_install.html\n",
      "  from .autonotebook import tqdm as notebook_tqdm\n"
     ]
    }
   ],
   "source": [
    "# ! pip install transformers\n",
    "# ! pip install datasets==2.21.0\n",
    "# ! pip install\n",
    "# ! pip install tqdm\n",
    "# ! pip install\n",
    "# ! pip install torchmetrics\n",
    "from datasets import load_dataset\n",
    "import torch\n",
    "from torch.utils.data import Dataset, DataLoader\n",
    "import transformers as T\n",
    "from torch.optim import AdamW\n",
    "from tqdm import tqdm\n",
    "from torchmetrics import SpearmanCorrCoef, Accuracy, F1Score"
   ]
  },
  {
   "cell_type": "code",
   "execution_count": 2,
   "metadata": {
    "id": "ft73Cq4PWewf"
   },
   "outputs": [],
   "source": [
    "# 有些中文的標點符號在tokenizer編碼以後會變成[UNK]，所以將其換成英文標點\n",
    "token_replacement = [\n",
    "    [\"：\" , \":\"],\n",
    "    [\"，\" , \",\"],\n",
    "    [\"“\" , \"\\\"\"],\n",
    "    [\"”\" , \"\\\"\"],\n",
    "    [\"？\" , \"?\"],\n",
    "    [\"……\" , \"...\"],\n",
    "    [\"！\" , \"!\"]\n",
    "]"
   ]
  },
  {
   "cell_type": "code",
   "execution_count": 3,
   "metadata": {
    "id": "CdK4-40qWewg"
   },
   "outputs": [],
   "source": [
    "class SemevalDataset(Dataset):\n",
    "    def __init__(self, split=\"train\") -> None:\n",
    "        super().__init__()\n",
    "        assert split in [\"train\", \"validation\", \"test\"]\n",
    "        self.data = load_dataset(\n",
    "            \"sem_eval_2014_task_1\", split=split, cache_dir=\"./cache/\", trust_remote_code=True\n",
    "        ).to_list()\n",
    "\n",
    "    def __getitem__(self, index):\n",
    "        d = self.data[index]\n",
    "        # 把中文標點替換掉\n",
    "        for k in [\"premise\", \"hypothesis\"]:\n",
    "            for tok in token_replacement:\n",
    "                d[k] = d[k].replace(tok[0], tok[1])\n",
    "        return d\n",
    "\n",
    "    def __len__(self):\n",
    "        return len(self.data)"
   ]
  },
  {
   "cell_type": "code",
   "execution_count": 4,
   "metadata": {
    "colab": {
     "base_uri": "https://localhost:8080/"
    },
    "id": "bSeIFimyjMWC",
    "outputId": "3c9ee8e5-7f89-4bd9-e86a-a8b8a8e185ba"
   },
   "outputs": [],
   "source": [
    "# data_sample = SemevalDataset(split=\"train\").data\n",
    "\n",
    "# for i, sample in enumerate(data_sample):\n",
    "#     if sample['entailment_judgment'] == 2:\n",
    "#         print(f\"Dataset example {i}: \\n{sample}\")"
   ]
  },
  {
   "cell_type": "code",
   "execution_count": 5,
   "metadata": {
    "id": "bVz8CSKSWewg"
   },
   "outputs": [],
   "source": [
    "# Define the hyperparameters\n",
    "lr =  1e-5\n",
    "epochs = 10\n",
    "train_batch_size = 8\n",
    "validation_batch_size = 8"
   ]
  },
  {
   "cell_type": "code",
   "execution_count": 6,
   "metadata": {
    "colab": {
     "base_uri": "https://localhost:8080/"
    },
    "id": "IaYIQ7KcWewg",
    "outputId": "39d023ab-7cce-49ef-914b-df80aaba3cff"
   },
   "outputs": [],
   "source": [
    "# TODO1: Create batched data for DataLoader\n",
    "# `collate_fn` is a function that defines how the data batch should be packed.\n",
    "# This function will be called in the DataLoader to pack the data batch.\n",
    "tokenizer = T.BertTokenizer.from_pretrained(\"google-bert/bert-base-uncased\", cache_dir=\"./cache/\")\n",
    "\n",
    "def collate_fn(batch):\n",
    "    premises = [item['premise'] for item in batch]\n",
    "    hypotheses = [item['hypothesis'] for item in batch]\n",
    "    relatedness_scores = torch.tensor([item['relatedness_score'] for item in batch], dtype=torch.float32)\n",
    "    entailment_judgments = torch.tensor([item['entailment_judgment'] for item in batch], dtype=torch.long)\n",
    "    inputs = tokenizer(premises, hypotheses, padding=True, truncation=True, return_tensors=\"pt\")\n",
    "    return {\n",
    "        'input_ids': inputs['input_ids'],\n",
    "        'token_type_ids': inputs['token_type_ids'],\n",
    "        'attention_mask': inputs['attention_mask'],\n",
    "        'relatedness_score': relatedness_scores,\n",
    "        'entailment_judgment': entailment_judgments\n",
    "        }\n",
    "    # TODO1-1: Implement the collate_fn function\n",
    "    # Write your code here\n",
    "    # The input parameter is a data batch (tuple), and this function packs it into tensors.\n",
    "    # Use tokenizer to pack tokenize and pack the data and its corresponding labels.\n",
    "    # Return the data batch and labels for each sub-task.\n",
    "\n",
    "# TODO1-2: Define your DataLoader\n",
    "dataset_train = SemevalDataset(split=\"train\")\n",
    "dataset_val = SemevalDataset(split=\"validation\")\n",
    "dl_train = DataLoader(dataset_train, batch_size=train_batch_size, shuffle=True, collate_fn=collate_fn)\n",
    "dl_validation = DataLoader(dataset_val, batch_size=validation_batch_size, shuffle=True, collate_fn=collate_fn)"
   ]
  },
  {
   "cell_type": "code",
   "execution_count": 7,
   "metadata": {
    "colab": {
     "base_uri": "https://localhost:8080/"
    },
    "id": "6VxaIFIsIX4A",
    "outputId": "e00af9d7-a484-421f-ef6c-714cf48a31f5"
   },
   "outputs": [
    {
     "name": "stdout",
     "output_type": "stream",
     "text": [
      "{'input_ids': tensor([[  101,  1037,  2502,  4937,  2003,  3098,  1037,  6081, 13065,  2007,\n",
      "          2049, 24392,  1998,  2003,  8660,  2503,   102,  1037,  4937,  2003,\n",
      "          3098,  1037, 13065,  1998,  8218,  2503,   102,     0],\n",
      "        [  101,  1996,  2158,  2003,  5128,  7975,  2046,  1996, 11661,   102,\n",
      "          1037,  2158,  2003,  5128,  2070,  2833,  1999,  1037,  3482,   102,\n",
      "             0,     0,     0,     0,     0,     0,     0,     0],\n",
      "        [  101,  2048,  4268,  2024,  6183,  2019,  1999, 10258, 27892, 21843,\n",
      "          1999,  1037,  4770,   102,  2048,  4268,  2024,  6183,  2627,  1037,\n",
      "         21843,  1999,  2019,  1999, 10258, 27892,  4770,   102],\n",
      "        [  101,  2093,  3337,  2024,  3788,  2006,  5749,  2247,  1037,  2314,\n",
      "           102,  1996,  2273,  1999,  2829,  9132,  2024,  2025,  3788,  2006,\n",
      "          1996,  5749,  3875,  1037,  2314,   102,     0,     0],\n",
      "        [  101,  1037,  3899,  2003,  6183,  1037,  6927,  3917,  2046,  1037,\n",
      "          4542, 25081,   102,  1037,  3899,  2003,  6183,  1037,  6927,  3917,\n",
      "          2046,  1037, 25081,  1997,  4542,   102,     0,     0],\n",
      "        [  101,  1037,  2829,  3899,  2003,  8660,  1999,  1996,  2250,   102,\n",
      "          2045,  2003,  2053,  2829,  3899,  8660,  1999,  1996,  2250,   102,\n",
      "             0,     0,     0,     0,     0,     0,     0,     0],\n",
      "        [  101,  1037,  2158,  2003,  8660,  2046,  2019,  4064,  4770,   102,\n",
      "          1037,  2158,  2003,  8660,  2046,  1037,  2440,  4770,   102,     0,\n",
      "             0,     0,     0,     0,     0,     0,     0,     0],\n",
      "        [  101,  1037, 10098, 12632,  2003,  2108,  2218,  2011,  1037,  2611,\n",
      "          1999,  2751,  1998,  6379,   102,  1037,  2611,  1999,  2751,  1998,\n",
      "          6379,  2003,  3173,  1037, 10098, 12632,   102,     0]]), 'token_type_ids': tensor([[0, 0, 0, 0, 0, 0, 0, 0, 0, 0, 0, 0, 0, 0, 0, 0, 0, 1, 1, 1, 1, 1, 1, 1,\n",
      "         1, 1, 1, 0],\n",
      "        [0, 0, 0, 0, 0, 0, 0, 0, 0, 0, 1, 1, 1, 1, 1, 1, 1, 1, 1, 1, 0, 0, 0, 0,\n",
      "         0, 0, 0, 0],\n",
      "        [0, 0, 0, 0, 0, 0, 0, 0, 0, 0, 0, 0, 0, 0, 1, 1, 1, 1, 1, 1, 1, 1, 1, 1,\n",
      "         1, 1, 1, 1],\n",
      "        [0, 0, 0, 0, 0, 0, 0, 0, 0, 0, 0, 1, 1, 1, 1, 1, 1, 1, 1, 1, 1, 1, 1, 1,\n",
      "         1, 1, 0, 0],\n",
      "        [0, 0, 0, 0, 0, 0, 0, 0, 0, 0, 0, 0, 0, 1, 1, 1, 1, 1, 1, 1, 1, 1, 1, 1,\n",
      "         1, 1, 0, 0],\n",
      "        [0, 0, 0, 0, 0, 0, 0, 0, 0, 0, 1, 1, 1, 1, 1, 1, 1, 1, 1, 1, 0, 0, 0, 0,\n",
      "         0, 0, 0, 0],\n",
      "        [0, 0, 0, 0, 0, 0, 0, 0, 0, 0, 1, 1, 1, 1, 1, 1, 1, 1, 1, 0, 0, 0, 0, 0,\n",
      "         0, 0, 0, 0],\n",
      "        [0, 0, 0, 0, 0, 0, 0, 0, 0, 0, 0, 0, 0, 0, 0, 1, 1, 1, 1, 1, 1, 1, 1, 1,\n",
      "         1, 1, 1, 0]]), 'attention_mask': tensor([[1, 1, 1, 1, 1, 1, 1, 1, 1, 1, 1, 1, 1, 1, 1, 1, 1, 1, 1, 1, 1, 1, 1, 1,\n",
      "         1, 1, 1, 0],\n",
      "        [1, 1, 1, 1, 1, 1, 1, 1, 1, 1, 1, 1, 1, 1, 1, 1, 1, 1, 1, 1, 0, 0, 0, 0,\n",
      "         0, 0, 0, 0],\n",
      "        [1, 1, 1, 1, 1, 1, 1, 1, 1, 1, 1, 1, 1, 1, 1, 1, 1, 1, 1, 1, 1, 1, 1, 1,\n",
      "         1, 1, 1, 1],\n",
      "        [1, 1, 1, 1, 1, 1, 1, 1, 1, 1, 1, 1, 1, 1, 1, 1, 1, 1, 1, 1, 1, 1, 1, 1,\n",
      "         1, 1, 0, 0],\n",
      "        [1, 1, 1, 1, 1, 1, 1, 1, 1, 1, 1, 1, 1, 1, 1, 1, 1, 1, 1, 1, 1, 1, 1, 1,\n",
      "         1, 1, 0, 0],\n",
      "        [1, 1, 1, 1, 1, 1, 1, 1, 1, 1, 1, 1, 1, 1, 1, 1, 1, 1, 1, 1, 0, 0, 0, 0,\n",
      "         0, 0, 0, 0],\n",
      "        [1, 1, 1, 1, 1, 1, 1, 1, 1, 1, 1, 1, 1, 1, 1, 1, 1, 1, 1, 0, 0, 0, 0, 0,\n",
      "         0, 0, 0, 0],\n",
      "        [1, 1, 1, 1, 1, 1, 1, 1, 1, 1, 1, 1, 1, 1, 1, 1, 1, 1, 1, 1, 1, 1, 1, 1,\n",
      "         1, 1, 1, 0]]), 'relatedness_score': tensor([4.4000, 4.3150, 3.2000, 3.4000, 4.9000, 3.3000, 3.0000, 5.0000]), 'entailment_judgment': tensor([1, 1, 0, 0, 1, 2, 2, 1])}\n"
     ]
    }
   ],
   "source": [
    "print(next(iter(dl_train)))"
   ]
  },
  {
   "cell_type": "code",
   "execution_count": 8,
   "metadata": {
    "id": "2l_bfxMEWewg"
   },
   "outputs": [],
   "source": [
    "# TODO2: Construct your model\n",
    "import torch.nn as nn\n",
    "class MultiLabelModel(torch.nn.Module):\n",
    "    def __init__(self, model_name = \"google-bert/bert-base-uncased\"):\n",
    "        super(MultiLabelModel, self).__init__()\n",
    "        # Write your code here\n",
    "        # Define what modules you will use in the model\n",
    "        self.bert = T.BertModel.from_pretrained(model_name)\n",
    "        self.relatedness_score_layer = nn.Linear(self.bert.config.hidden_size, 1)\n",
    "        self.entailment_judgment_layer = nn.Linear(self.bert.config.hidden_size, 3)\n",
    "\n",
    "    def forward(self, input_ids, attention_mask, token_type_ids):\n",
    "        # Get the outputs from BERT\n",
    "        bert_output = self.bert(\n",
    "            input_ids=input_ids,\n",
    "            attention_mask=attention_mask,\n",
    "            token_type_ids=token_type_ids)\n",
    "\n",
    "        cls_output = bert_output.pooler_output\n",
    "        relatedness_score = self.relatedness_score_layer(cls_output)\n",
    "        entailment_judgment = self.entailment_judgment_layer(cls_output)\n",
    "\n",
    "        return {\n",
    "            \"relatedness_score\": relatedness_score,\n",
    "            \"entailment_judgment\": entailment_judgment\n",
    "        }\n",
    "        # Write your code here\n",
    "        # Forward pass"
   ]
  },
  {
   "cell_type": "code",
   "execution_count": 9,
   "metadata": {
    "colab": {
     "base_uri": "https://localhost:8080/",
     "height": 99,
     "referenced_widgets": [
      "91b275583751446395c784187a4408c2",
      "ed61b1ac80a64eaea1e0f740b696e370",
      "a9f431d1360e483db37016bf57ece5ca",
      "94b898c6926f4852922f80a3b19b3183",
      "d36239f24d0c42388a2df02f07a87715",
      "2ea2c044e970451abc6387bb8b7c5ba7",
      "ae6db5e2bee24d3194583d7777d73edb",
      "adac5bfe149f4e56b8d3ba710ca85e28",
      "50c79469e2f348d8b272ccff86ed9c9d",
      "e714fe46764149dab9065b773da23d85",
      "b1897461c16a4f9982343ba01b3be71a",
      "3057a7f4e37641e9a12e566eb874e4d9",
      "47320d9244954e5aa479921b841663ba",
      "0d2f20215b6347a8a100cdd716e865b8",
      "5932f8cee8584dc5920744a00c2f03fe",
      "36a9de5968fe49dfbae39154fd9d1c1e",
      "0bd01a442c5f4c1e818c783807e5d4ea",
      "79b855339cb64134a84ae5c9851573e2",
      "b2652b40d31f4566a5d4e663c46ae117",
      "3517d6ffeb934d3bacb88b7020494467",
      "9d47bd982cec4ed8a0e1aadb34a37f13",
      "cebc503b16f74f588eac4dbb381e7494"
     ]
    },
    "id": "osN47zw4Wewf",
    "outputId": "b5ef7910-8584-4041-8dae-a349d62b4977"
   },
   "outputs": [
    {
     "name": "stdout",
     "output_type": "stream",
     "text": [
      "Device: cuda:0\n"
     ]
    }
   ],
   "source": [
    "device = \"cuda:0\" if torch.cuda.is_available() else \"cpu\"\n",
    "print(f\"Device: {device}\")\n",
    "model = MultiLabelModel(\"google-bert/bert-base-uncased\").to(device)"
   ]
  },
  {
   "cell_type": "code",
   "execution_count": 10,
   "metadata": {},
   "outputs": [
    {
     "name": "stdout",
     "output_type": "stream",
     "text": [
      "torch.Size([8]) torch.Size([8])\n"
     ]
    }
   ],
   "source": [
    "output = next(iter(dl_train))\n",
    "print(output[\"relatedness_score\"].size(), output[\"entailment_judgment\"].size())"
   ]
  },
  {
   "cell_type": "code",
   "execution_count": 11,
   "metadata": {
    "colab": {
     "base_uri": "https://localhost:8080/"
    },
    "id": "YLjBveCMWewh",
    "outputId": "c4d85df0-6a4b-4bf2-941e-d364b2c6872b"
   },
   "outputs": [
    {
     "name": "stderr",
     "output_type": "stream",
     "text": [
      "c:\\Users\\asdzx\\anaconda3\\envs\\yolov7\\lib\\site-packages\\torchmetrics\\utilities\\prints.py:43: UserWarning: Metric `SpearmanCorrcoef` will save all targets and predictions in the buffer. For large datasets, this may lead to large memory footprint.\n",
      "  warnings.warn(*args, **kwargs)  # noqa: B028\n"
     ]
    }
   ],
   "source": [
    "optimizer = AdamW(model.parameters(), lr=lr) # Write your code here\n",
    "\n",
    "loss_fn_relatedness = nn.MSELoss()\n",
    "loss_fn_entailment = nn.CrossEntropyLoss()\n",
    "\n",
    "spc = SpearmanCorrCoef()\n",
    "acc = Accuracy(task=\"multiclass\", num_classes=3)\n",
    "f1 = F1Score(task=\"multiclass\", num_classes=3, average='macro')"
   ]
  },
  {
   "cell_type": "code",
   "execution_count": 12,
   "metadata": {
    "colab": {
     "background_save": true,
     "base_uri": "https://localhost:8080/"
    },
    "id": "8IUBUuMlWewh",
    "outputId": "5c5ffb67-d3f8-4892-9225-9d7e3e3ccb23"
   },
   "outputs": [
    {
     "name": "stderr",
     "output_type": "stream",
     "text": [
      "Training epoch [1/10]: 100%|██████████| 563/563 [00:51<00:00, 10.93it/s, loss=0.769]\n",
      "Validation epoch [1/10]: 100%|██████████| 63/63 [00:01<00:00, 42.28it/s]\n"
     ]
    },
    {
     "name": "stdout",
     "output_type": "stream",
     "text": [
      "Validation Loss: 0.7724 | \n",
      "Spearman Corr: 0.7400 | \n",
      "Accuracy: 0.8056 | \n",
      "F1 Score: 0.7371\n"
     ]
    },
    {
     "name": "stderr",
     "output_type": "stream",
     "text": [
      "Training epoch [2/10]: 100%|██████████| 563/563 [00:51<00:00, 10.92it/s, loss=0.349]\n",
      "Validation epoch [2/10]: 100%|██████████| 63/63 [00:01<00:00, 42.22it/s]\n"
     ]
    },
    {
     "name": "stdout",
     "output_type": "stream",
     "text": [
      "Validation Loss: 0.7524 | \n",
      "Spearman Corr: 0.7520 | \n",
      "Accuracy: 0.8651 | \n",
      "F1 Score: 0.8252\n"
     ]
    },
    {
     "name": "stderr",
     "output_type": "stream",
     "text": [
      "Training epoch [3/10]: 100%|██████████| 563/563 [00:51<00:00, 10.94it/s, loss=0.264]\n",
      "Validation epoch [3/10]: 100%|██████████| 63/63 [00:01<00:00, 41.49it/s]\n"
     ]
    },
    {
     "name": "stdout",
     "output_type": "stream",
     "text": [
      "Validation Loss: 0.6316 | \n",
      "Spearman Corr: 0.7558 | \n",
      "Accuracy: 0.8631 | \n",
      "F1 Score: 0.8275\n"
     ]
    },
    {
     "name": "stderr",
     "output_type": "stream",
     "text": [
      "Training epoch [4/10]: 100%|██████████| 563/563 [00:51<00:00, 11.02it/s, loss=0.206]\n",
      "Validation epoch [4/10]: 100%|██████████| 63/63 [00:01<00:00, 39.94it/s]\n"
     ]
    },
    {
     "name": "stdout",
     "output_type": "stream",
     "text": [
      "Validation Loss: 0.6904 | \n",
      "Spearman Corr: 0.7637 | \n",
      "Accuracy: 0.8651 | \n",
      "F1 Score: 0.8139\n"
     ]
    },
    {
     "name": "stderr",
     "output_type": "stream",
     "text": [
      "Training epoch [5/10]: 100%|██████████| 563/563 [00:53<00:00, 10.45it/s, loss=0.172]\n",
      "Validation epoch [5/10]: 100%|██████████| 63/63 [00:01<00:00, 39.45it/s]\n"
     ]
    },
    {
     "name": "stdout",
     "output_type": "stream",
     "text": [
      "Validation Loss: 0.6744 | \n",
      "Spearman Corr: 0.7890 | \n",
      "Accuracy: 0.8492 | \n",
      "F1 Score: 0.8067\n"
     ]
    },
    {
     "name": "stderr",
     "output_type": "stream",
     "text": [
      "Training epoch [6/10]: 100%|██████████| 563/563 [00:53<00:00, 10.55it/s, loss=0.135]\n",
      "Validation epoch [6/10]: 100%|██████████| 63/63 [00:01<00:00, 39.96it/s]\n"
     ]
    },
    {
     "name": "stdout",
     "output_type": "stream",
     "text": [
      "Validation Loss: 0.7159 | \n",
      "Spearman Corr: 0.7561 | \n",
      "Accuracy: 0.8671 | \n",
      "F1 Score: 0.8326\n"
     ]
    },
    {
     "name": "stderr",
     "output_type": "stream",
     "text": [
      "Training epoch [7/10]: 100%|██████████| 563/563 [00:49<00:00, 11.29it/s, loss=0.114]\n",
      "Validation epoch [7/10]: 100%|██████████| 63/63 [00:01<00:00, 38.91it/s]\n"
     ]
    },
    {
     "name": "stdout",
     "output_type": "stream",
     "text": [
      "Validation Loss: 0.7151 | \n",
      "Spearman Corr: 0.7822 | \n",
      "Accuracy: 0.8651 | \n",
      "F1 Score: 0.8329\n"
     ]
    },
    {
     "name": "stderr",
     "output_type": "stream",
     "text": [
      "Training epoch [8/10]: 100%|██████████| 563/563 [00:52<00:00, 10.82it/s, loss=0.0952]\n",
      "Validation epoch [8/10]: 100%|██████████| 63/63 [00:01<00:00, 33.15it/s]\n"
     ]
    },
    {
     "name": "stdout",
     "output_type": "stream",
     "text": [
      "Validation Loss: 0.6934 | \n",
      "Spearman Corr: 0.7828 | \n",
      "Accuracy: 0.8671 | \n",
      "F1 Score: 0.8115\n"
     ]
    },
    {
     "name": "stderr",
     "output_type": "stream",
     "text": [
      "Training epoch [9/10]: 100%|██████████| 563/563 [00:54<00:00, 10.41it/s, loss=0.0831]\n",
      "Validation epoch [9/10]: 100%|██████████| 63/63 [00:01<00:00, 34.07it/s]\n"
     ]
    },
    {
     "name": "stdout",
     "output_type": "stream",
     "text": [
      "Validation Loss: 0.8046 | \n",
      "Spearman Corr: 0.7590 | \n",
      "Accuracy: 0.8671 | \n",
      "F1 Score: 0.8156\n"
     ]
    },
    {
     "name": "stderr",
     "output_type": "stream",
     "text": [
      "Training epoch [10/10]: 100%|██████████| 563/563 [00:53<00:00, 10.47it/s, loss=0.0738]\n",
      "Validation epoch [10/10]: 100%|██████████| 63/63 [00:01<00:00, 33.18it/s]\n"
     ]
    },
    {
     "name": "stdout",
     "output_type": "stream",
     "text": [
      "Validation Loss: 0.7698 | \n",
      "Spearman Corr: 0.7743 | \n",
      "Accuracy: 0.8770 | \n",
      "F1 Score: 0.8403\n"
     ]
    }
   ],
   "source": [
    "for ep in range(epochs):\n",
    "    pbar = tqdm(dl_train)\n",
    "    pbar.set_description(f\"Training epoch [{ep+1}/{epochs}]\")\n",
    "    model.train()\n",
    "    total_train_loss = 0\n",
    "    for batch in pbar:\n",
    "        optimizer.zero_grad()\n",
    "        input_ids = batch['input_ids'].to(device)\n",
    "        attention_mask = batch['attention_mask'].to(device)\n",
    "        token_type_ids = batch['token_type_ids'].to(device)\n",
    "        relatedness_scores = batch['relatedness_score'].to(device)\n",
    "        entailment_judgments = batch['entailment_judgment'].to(device)\n",
    "        outputs = model(input_ids=input_ids, attention_mask=attention_mask, token_type_ids=token_type_ids)\n",
    "\n",
    "        loss_relatedness = loss_fn_relatedness(outputs[\"relatedness_score\"], relatedness_scores.view(-1, 1))\n",
    "        loss_entailment = loss_fn_entailment(outputs[\"entailment_judgment\"], entailment_judgments)\n",
    "\n",
    "        loss = 0.5* loss_relatedness + 0.5*loss_entailment\n",
    "        total_train_loss += loss.item()\n",
    "        loss.backward()\n",
    "        optimizer.step()\n",
    "        pbar.set_postfix(loss=total_train_loss / (pbar.n + 1))\n",
    "\n",
    "    pbar = tqdm(dl_validation)\n",
    "    pbar.set_description(f\"Validation epoch [{ep+1}/{epochs}]\")\n",
    "    model.eval()\n",
    "    total_val_loss = 0\n",
    "    spc_score = 0\n",
    "    acc_score = 0\n",
    "    f1_score = 0\n",
    "    with torch.no_grad():\n",
    "        for batch in pbar:\n",
    "            # Move batch to device\n",
    "            input_ids = batch['input_ids'].to(device)\n",
    "            attention_mask = batch['attention_mask'].to(device)\n",
    "            token_type_ids = batch['token_type_ids'].to(device)\n",
    "            relatedness_scores = batch['relatedness_score'].to(device)\n",
    "            entailment_judgments = batch['entailment_judgment'].to(device)\n",
    "\n",
    "            outputs = model(input_ids=input_ids, attention_mask=attention_mask, token_type_ids=token_type_ids)\n",
    "\n",
    "            loss_relatedness = loss_fn_relatedness(outputs[\"relatedness_score\"], relatedness_scores.view(-1, 1))\n",
    "            loss_entailment = loss_fn_entailment(outputs[\"entailment_judgment\"], entailment_judgments)\n",
    "            val_loss = loss_relatedness + loss_entailment\n",
    "            total_val_loss += val_loss.item()\n",
    "\n",
    "            spc_score += spc(outputs[\"relatedness_score\"].cpu(), relatedness_scores.cpu().view(-1, 1))\n",
    "            acc_score += acc(outputs[\"entailment_judgment\"].cpu(), entailment_judgments.cpu())\n",
    "            f1_score += f1(outputs[\"entailment_judgment\"].cpu(), entailment_judgments.cpu())\n",
    "\n",
    "        avg_val_loss = total_val_loss / len(dl_validation)\n",
    "        avg_spc = spc_score / len(dl_validation)\n",
    "        avg_acc = acc_score / len(dl_validation)\n",
    "        avg_f1 = f1_score / len(dl_validation)\n",
    "\n",
    "        print(f\"Validation Loss: {avg_val_loss:.4f} | \\nSpearman Corr: {avg_spc:.4f} | \\nAccuracy: {avg_acc:.4f} | \\nF1 Score: {avg_f1:.4f}\")\n",
    "\n",
    "    # Save model checkpoint\n",
    "    torch.save(model.state_dict(), f'./saved_models/ep{ep}.pt')"
   ]
  },
  {
   "cell_type": "code",
   "execution_count": null,
   "metadata": {},
   "outputs": [
    {
     "data": {
      "image/png": "[encoded data removed]",
      "text/plain": [
       "<Figure size 2000x600 with 2 Axes>"
      ]
     },
     "metadata": {},
     "output_type": "display_data"
    }
   ],
   "source": [
    "import matplotlib.pyplot as plt\n",
    "import numpy as np\n",
    "##(Ploting code is generate with ChatGPT)\n",
    "# Training Loss data\n",
    "train_loss = [0.739, 0.336, 0.256, 0.192, 0.157, 0.126, 0.102, 0.0815, 0.0715, 0.0723]\n",
    "\n",
    "# Validation Loss data\n",
    "val_loss = [0.7967, 0.6408, 0.7538, 0.6536, 0.7811, 0.7361, 0.7281, 0.7329, 0.7807, 0.8270]\n",
    "\n",
    "# Other metrics data\n",
    "spearman = [0.7597, 0.7802, 0.7687, 0.7849, 0.7898, 0.7698, 0.7833, 0.7266, 0.7568, 0.7689]\n",
    "accuracy = [0.8333, 0.8571, 0.8373, 0.8492, 0.8333, 0.8552, 0.8651, 0.8750, 0.8651, 0.8492]\n",
    "f1_score = [0.7792, 0.8204, 0.7984, 0.8148, 0.8046, 0.8132, 0.8290, 0.8456, 0.8297, 0.7859]\n",
    "\n",
    "# Create figure with three subplots\n",
    "plt.figure(figsize=(20, 6))\n",
    "\n",
    "# Plot 1: Training and Validation Loss\n",
    "plt.subplot(1, 2, 1)\n",
    "epochs = range(1, 11)\n",
    "plt.plot(epochs, train_loss, 'g-', marker='o', linewidth=2, markersize=8, label='Training Loss')\n",
    "plt.plot(epochs, val_loss, 'r-', marker='o', linewidth=2, markersize=8, label='Validation Loss')\n",
    "plt.title('Training vs Validation Loss', fontsize=12)\n",
    "plt.xlabel('Epoch')\n",
    "plt.ylabel('Loss')\n",
    "plt.legend()\n",
    "plt.grid(True)\n",
    "# Plot 3: Other Metrics\n",
    "plt.subplot(1, 2, 2)\n",
    "plt.plot(epochs, spearman, 'r-', marker='o', label='Spearman Correlation', linewidth=2, markersize=8)\n",
    "plt.plot(epochs, accuracy, 'g-', marker='s', label='Accuracy', linewidth=2, markersize=8)\n",
    "plt.plot(epochs, f1_score, 'b-', marker='^', label='F1 Score', linewidth=2, markersize=8)\n",
    "plt.title('Training Metrics over Epochs', fontsize=12)\n",
    "plt.xlabel('Epoch')\n",
    "plt.ylabel('Score')\n",
    "plt.legend()\n",
    "plt.grid(True)\n",
    "\n",
    "# Adjust layout\n",
    "plt.tight_layout()\n",
    "plt.show()"
   ]
  },
  {
   "cell_type": "markdown",
   "metadata": {
    "id": "cnq8CFIGWewh"
   },
   "source": [
    "\n",
    "\n",
    "```\n",
    "# 此內容會顯示為程式碼\n",
    "```\n",
    "\n",
    "For test set predictions, you can write perform evaluation simlar to #TODO5."
   ]
  },
  {
   "cell_type": "code",
   "execution_count": 13,
   "metadata": {
    "id": "lzOfsJ5znSja"
   },
   "outputs": [],
   "source": [
    "dataset_test= SemevalDataset(split=\"test\")\n",
    "dl_test = DataLoader(dataset_test, batch_size=validation_batch_size, shuffle=True, collate_fn=collate_fn)"
   ]
  },
  {
   "cell_type": "code",
   "execution_count": 23,
   "metadata": {
    "id": "rQGI2Y8Pr0ro"
   },
   "outputs": [
    {
     "name": "stderr",
     "output_type": "stream",
     "text": [
      "Testing: 100%|██████████| 616/616 [00:12<00:00, 49.92it/s]"
     ]
    },
    {
     "name": "stdout",
     "output_type": "stream",
     "text": [
      "Test Loss: 0.7999 |\n",
      "Spearman Corr: 0.8267 |\n",
      "Accuracy: 0.8729 |\n",
      "F1 Score: 0.8646\n"
     ]
    },
    {
     "name": "stderr",
     "output_type": "stream",
     "text": [
      "\n"
     ]
    }
   ],
   "source": [
    "model.eval()\n",
    "model.load_state_dict(torch.load('./saved_models/ep9.pt', map_location=device, weights_only=True), strict=True)\n",
    "# 初始化累計變量\n",
    "total_test_loss = 0\n",
    "spc_score = 0\n",
    "acc_score = 0\n",
    "f1_score = 0\n",
    "spearman_corr = SpearmanCorrCoef()\n",
    "accuracy = Accuracy(task=\"multiclass\", num_classes=3)\n",
    "f1_score = F1Score(task=\"multiclass\", num_classes=3, average='macro', zero_division=0)\n",
    "\n",
    "with torch.no_grad():\n",
    "    for batch in tqdm(dl_test, desc=\"Testing\"):\n",
    "        input_ids = batch['input_ids'].to(device)\n",
    "        attention_mask = batch['attention_mask'].to(device)\n",
    "        token_type_ids = batch['token_type_ids'].to(device)\n",
    "        relatedness_scores = batch['relatedness_score'].to(device)\n",
    "        entailment_judgments = batch['entailment_judgment'].to(device)\n",
    "\n",
    "        outputs = model(input_ids=input_ids, attention_mask=attention_mask, token_type_ids=token_type_ids)\n",
    "\n",
    "        loss_relatedness = loss_fn_relatedness(outputs[\"relatedness_score\"], relatedness_scores.view(-1, 1))\n",
    "        loss_entailment = loss_fn_entailment(outputs[\"entailment_judgment\"], entailment_judgments)\n",
    "        test_loss = loss_relatedness + loss_entailment\n",
    "        total_test_loss += test_loss.item()\n",
    "        # Update metrics\n",
    "        spearman_corr.update(outputs[\"relatedness_score\"].cpu(), relatedness_scores.cpu().view(-1, 1))\n",
    "        accuracy.update(outputs[\"entailment_judgment\"].cpu(), entailment_judgments.cpu())\n",
    "        f1_score.update(outputs[\"entailment_judgment\"].cpu(), entailment_judgments.cpu())\n",
    "\n",
    "# Compute average loss and final metrics\n",
    "average_test_loss = total_test_loss / len(dl_test)\n",
    "spearman_corr_result = spearman_corr.compute()\n",
    "accuracy_result = accuracy.compute()\n",
    "f1_score_result = f1_score.compute()\n",
    "\n",
    "# Print results\n",
    "print(f\"Test Loss: {average_test_loss:.4f} |\")\n",
    "print(f\"Spearman Corr: {spearman_corr_result:.4f} |\")\n",
    "print(f\"Accuracy: {accuracy_result:.4f} |\")\n",
    "print(f\"F1 Score: {f1_score_result:.4f}\")"
   ]
  },
  {
   "cell_type": "code",
   "execution_count": null,
   "metadata": {},
   "outputs": [],
   "source": [
    "class relatedness_score_Model(torch.nn.Module):\n",
    "    def __init__(self, model_name = \"google-bert/bert-base-uncased\"):\n",
    "        super(relatedness_score_Model, self).__init__()\n",
    "        # Write your code here\n",
    "        # Define what modules you will use in the model\n",
    "        self.bert = T.BertModel.from_pretrained(model_name)\n",
    "        self.relatedness_score_layer = nn.Linear(self.bert.config.hidden_size, 1)\n",
    "\n",
    "    def forward(self, input_ids, attention_mask, token_type_ids):\n",
    "        # Get the outputs from BERT\n",
    "        bert_output = self.bert(\n",
    "            input_ids=input_ids,\n",
    "            attention_mask=attention_mask,\n",
    "            token_type_ids=token_type_ids)\n",
    "\n",
    "        cls_output = bert_output.pooler_output\n",
    "        relatedness_score = self.relatedness_score_layer(cls_output)\n",
    "\n",
    "        return relatedness_score\n",
    "    "
   ]
  },
  {
   "cell_type": "code",
   "execution_count": null,
   "metadata": {},
   "outputs": [],
   "source": [
    "class entailment_judgment_Model(torch.nn.Module):\n",
    "    def __init__(self, model_name = \"google-bert/bert-base-uncased\"):\n",
    "        super(entailment_judgment_Model, self).__init__()\n",
    "        # Write your code here\n",
    "        # Define what modules you will use in the model\n",
    "        self.bert = T.BertModel.from_pretrained(model_name)\n",
    "        self.entailment_judgment_layer = nn.Linear(self.bert.config.hidden_size, 3)\n",
    "\n",
    "    def forward(self, input_ids, attention_mask, token_type_ids):\n",
    "        # Get the outputs from BERT\n",
    "        bert_output = self.bert(\n",
    "            input_ids=input_ids,\n",
    "            attention_mask=attention_mask,\n",
    "            token_type_ids=token_type_ids)\n",
    "\n",
    "        cls_output = bert_output.pooler_output\n",
    "        entailment_judgment = self.entailment_judgment_layer(cls_output)\n",
    "\n",
    "        return entailment_judgment"
   ]
  },
  {
   "cell_type": "code",
   "execution_count": null,
   "metadata": {},
   "outputs": [],
   "source": [
    "relatedness_model = relatedness_score_Model(model_name = \"google-bert/bert-base-uncased\").to(device)\n",
    "entailment_judgment_model = entailment_judgment_Model(model_name = \"google-bert/bert-base-uncased\").to(device)\n",
    "optimizer_relatedness_model = AdamW(relatedness_model.parameters(), lr=lr)\n",
    "optimizer_entailment_judgment_model= AdamW(entailment_judgment_model.parameters(), lr=lr)"
   ]
  },
  {
   "cell_type": "code",
   "execution_count": null,
   "metadata": {},
   "outputs": [
    {
     "name": "stderr",
     "output_type": "stream",
     "text": [
      "Training epoch [1/10]:   0%|          | 0/563 [00:00<?, ?it/s]c:\\Users\\lab414\\anaconda3\\envs\\pytorch\\lib\\site-packages\\transformers\\models\\bert\\modeling_bert.py:440: UserWarning: 1Torch was not compiled with flash attention. (Triggered internally at C:\\actions-runner\\_work\\pytorch\\pytorch\\builder\\windows\\pytorch\\aten\\src\\ATen\\native\\transformers\\cuda\\sdp_utils.cpp:555.)\n",
      "  attn_output = torch.nn.functional.scaled_dot_product_attention(\n",
      "Training epoch [1/10]: 100%|██████████| 563/563 [00:16<00:00, 33.54it/s, loss_relatedness=0.783]\n",
      "Validation epoch [1/10]: 100%|██████████| 63/63 [00:00<00:00, 73.49it/s]\n"
     ]
    },
    {
     "name": "stdout",
     "output_type": "stream",
     "text": [
      "Validation Loss: 0.3371 | \n",
      "Spearman Corr: 0.7317 |\n",
      "\n"
     ]
    },
    {
     "name": "stderr",
     "output_type": "stream",
     "text": [
      "Training epoch [2/10]: 100%|██████████| 563/563 [00:18<00:00, 30.94it/s, loss_relatedness=0.242]\n",
      "Validation epoch [2/10]: 100%|██████████| 63/63 [00:00<00:00, 97.95it/s] \n"
     ]
    },
    {
     "name": "stdout",
     "output_type": "stream",
     "text": [
      "Validation Loss: 0.2886 | \n",
      "Spearman Corr: 0.7467 |\n",
      "\n"
     ]
    },
    {
     "name": "stderr",
     "output_type": "stream",
     "text": [
      "Training epoch [3/10]: 100%|██████████| 563/563 [00:16<00:00, 33.95it/s, loss_relatedness=0.184]\n",
      "Validation epoch [3/10]: 100%|██████████| 63/63 [00:00<00:00, 95.58it/s]\n"
     ]
    },
    {
     "name": "stdout",
     "output_type": "stream",
     "text": [
      "Validation Loss: 0.2373 | \n",
      "Spearman Corr: 0.7257 |\n",
      "\n"
     ]
    },
    {
     "name": "stderr",
     "output_type": "stream",
     "text": [
      "Training epoch [4/10]: 100%|██████████| 563/563 [00:32<00:00, 17.38it/s, loss_relatedness=0.144]\n",
      "Validation epoch [4/10]: 100%|██████████| 63/63 [00:02<00:00, 26.06it/s]\n"
     ]
    },
    {
     "name": "stdout",
     "output_type": "stream",
     "text": [
      "Validation Loss: 0.2549 | \n",
      "Spearman Corr: 0.7626 |\n",
      "\n"
     ]
    },
    {
     "name": "stderr",
     "output_type": "stream",
     "text": [
      "Training epoch [5/10]: 100%|██████████| 563/563 [00:50<00:00, 11.07it/s, loss_relatedness=0.114]\n",
      "Validation epoch [5/10]: 100%|██████████| 63/63 [00:02<00:00, 31.04it/s]\n"
     ]
    },
    {
     "name": "stdout",
     "output_type": "stream",
     "text": [
      "Validation Loss: 0.2783 | \n",
      "Spearman Corr: 0.7608 |\n",
      "\n"
     ]
    },
    {
     "name": "stderr",
     "output_type": "stream",
     "text": [
      "Training epoch [6/10]: 100%|██████████| 563/563 [00:16<00:00, 33.30it/s, loss_relatedness=0.0935]\n",
      "Validation epoch [6/10]: 100%|██████████| 63/63 [00:00<00:00, 84.61it/s]\n"
     ]
    },
    {
     "name": "stdout",
     "output_type": "stream",
     "text": [
      "Validation Loss: 0.2299 | \n",
      "Spearman Corr: 0.7855 |\n",
      "\n"
     ]
    },
    {
     "name": "stderr",
     "output_type": "stream",
     "text": [
      "Training epoch [7/10]: 100%|██████████| 563/563 [00:16<00:00, 33.87it/s, loss_relatedness=0.0819]\n",
      "Validation epoch [7/10]: 100%|██████████| 63/63 [00:00<00:00, 77.55it/s]\n"
     ]
    },
    {
     "name": "stdout",
     "output_type": "stream",
     "text": [
      "Validation Loss: 0.2953 | \n",
      "Spearman Corr: 0.7777 |\n",
      "\n"
     ]
    },
    {
     "name": "stderr",
     "output_type": "stream",
     "text": [
      "Training epoch [8/10]: 100%|██████████| 563/563 [00:18<00:00, 31.20it/s, loss_relatedness=0.0681]\n",
      "Validation epoch [8/10]: 100%|██████████| 63/63 [00:00<00:00, 78.69it/s]\n"
     ]
    },
    {
     "name": "stdout",
     "output_type": "stream",
     "text": [
      "Validation Loss: 0.2706 | \n",
      "Spearman Corr: 0.7999 |\n",
      "\n"
     ]
    },
    {
     "name": "stderr",
     "output_type": "stream",
     "text": [
      "Training epoch [9/10]: 100%|██████████| 563/563 [00:16<00:00, 34.79it/s, loss_relatedness=0.0599]\n",
      "Validation epoch [9/10]: 100%|██████████| 63/63 [00:00<00:00, 79.52it/s]\n"
     ]
    },
    {
     "name": "stdout",
     "output_type": "stream",
     "text": [
      "Validation Loss: 0.2785 | \n",
      "Spearman Corr: 0.7783 |\n",
      "\n"
     ]
    },
    {
     "name": "stderr",
     "output_type": "stream",
     "text": [
      "Training epoch [10/10]: 100%|██████████| 563/563 [00:20<00:00, 26.85it/s, loss_relatedness=0.0536]\n",
      "Validation epoch [10/10]: 100%|██████████| 63/63 [00:03<00:00, 20.19it/s]"
     ]
    },
    {
     "name": "stdout",
     "output_type": "stream",
     "text": [
      "Validation Loss: 0.2641 | \n",
      "Spearman Corr: 0.7760 |\n",
      "\n"
     ]
    },
    {
     "name": "stderr",
     "output_type": "stream",
     "text": [
      "\n"
     ]
    }
   ],
   "source": [
    "for ep in range(epochs):\n",
    "    pbar = tqdm(dl_train)\n",
    "    pbar.set_description(f\"Training epoch [{ep+1}/{epochs}]\")\n",
    "    relatedness_model.train()\n",
    "    total_train_loss = 0\n",
    "    for batch in pbar:\n",
    "        optimizer_relatedness_model.zero_grad()\n",
    "        input_ids = batch['input_ids'].to(device)\n",
    "        attention_mask = batch['attention_mask'].to(device)\n",
    "        token_type_ids = batch['token_type_ids'].to(device)\n",
    "        relatedness_scores = batch['relatedness_score'].to(device)\n",
    "        outputs = relatedness_model(input_ids=input_ids, attention_mask=attention_mask, token_type_ids=token_type_ids)\n",
    "\n",
    "        loss_relatedness = loss_fn_relatedness(outputs, relatedness_scores.view(-1, 1))\n",
    "        total_train_loss += loss_relatedness.item()\n",
    "        loss_relatedness.backward()\n",
    "        optimizer_relatedness_model.step()\n",
    "        pbar.set_postfix(loss_relatedness=total_train_loss / (pbar.n + 1))\n",
    "\n",
    "    pbar = tqdm(dl_validation)\n",
    "    pbar.set_description(f\"Validation epoch [{ep+1}/{epochs}]\")\n",
    "    relatedness_model.eval()\n",
    "    total_val_loss = 0\n",
    "    spc_score = 0\n",
    "    with torch.no_grad():\n",
    "        for batch in pbar:\n",
    "            # Move batch to device\n",
    "            input_ids = batch['input_ids'].to(device)\n",
    "            attention_mask = batch['attention_mask'].to(device)\n",
    "            token_type_ids = batch['token_type_ids'].to(device)\n",
    "            relatedness_scores = batch['relatedness_score'].to(device)\n",
    "\n",
    "            outputs = relatedness_model(input_ids=input_ids, attention_mask=attention_mask, token_type_ids=token_type_ids)\n",
    "\n",
    "            loss_relatedness = loss_fn_relatedness(outputs, relatedness_scores.view(-1, 1))\n",
    "            total_val_loss += loss_relatedness.item()\n",
    "\n",
    "            spc_score += spc(outputs.cpu(), relatedness_scores.cpu().view(-1, 1))\n",
    "\n",
    "        avg_val_loss = total_val_loss / len(dl_validation)\n",
    "        avg_spc = spc_score / len(dl_validation)\n",
    "\n",
    "        print(f\"Validation Loss: {avg_val_loss:.4f} | \\nSpearman Corr: {avg_spc:.4f} |\\n\")\n"
   ]
  },
  {
   "cell_type": "code",
   "execution_count": null,
   "metadata": {},
   "outputs": [
    {
     "name": "stderr",
     "output_type": "stream",
     "text": [
      "Training epoch [1/10]: 100%|██████████| 563/563 [00:48<00:00, 11.54it/s, loss_entailment=0.608]\n",
      "Validation epoch [1/10]: 100%|██████████| 63/63 [00:02<00:00, 28.46it/s]\n"
     ]
    },
    {
     "name": "stdout",
     "output_type": "stream",
     "text": [
      "Validation Loss: 0.3866 | \n",
      "\n",
      "Accuracy: 0.8492 | \n",
      "F1 Score: 0.8143\n"
     ]
    },
    {
     "name": "stderr",
     "output_type": "stream",
     "text": [
      "Training epoch [2/10]: 100%|██████████| 563/563 [00:27<00:00, 20.77it/s, loss_entailment=0.344]\n",
      "Validation epoch [2/10]: 100%|██████████| 63/63 [00:00<00:00, 108.11it/s]\n"
     ]
    },
    {
     "name": "stdout",
     "output_type": "stream",
     "text": [
      "Validation Loss: 0.3465 | \n",
      "\n",
      "Accuracy: 0.8671 | \n",
      "F1 Score: 0.8238\n"
     ]
    },
    {
     "name": "stderr",
     "output_type": "stream",
     "text": [
      "Training epoch [3/10]: 100%|██████████| 563/563 [00:16<00:00, 34.60it/s, loss_entailment=0.229]\n",
      "Validation epoch [3/10]: 100%|██████████| 63/63 [00:00<00:00, 108.43it/s]\n"
     ]
    },
    {
     "name": "stdout",
     "output_type": "stream",
     "text": [
      "Validation Loss: 0.3648 | \n",
      "\n",
      "Accuracy: 0.8651 | \n",
      "F1 Score: 0.8439\n"
     ]
    },
    {
     "name": "stderr",
     "output_type": "stream",
     "text": [
      "Training epoch [4/10]: 100%|██████████| 563/563 [00:18<00:00, 30.77it/s, loss_entailment=0.147]\n",
      "Validation epoch [4/10]: 100%|██████████| 63/63 [00:00<00:00, 109.45it/s]\n"
     ]
    },
    {
     "name": "stdout",
     "output_type": "stream",
     "text": [
      "Validation Loss: 0.3961 | \n",
      "\n",
      "Accuracy: 0.8671 | \n",
      "F1 Score: 0.8183\n"
     ]
    },
    {
     "name": "stderr",
     "output_type": "stream",
     "text": [
      "Training epoch [5/10]: 100%|██████████| 563/563 [00:16<00:00, 33.30it/s, loss_entailment=0.104] \n",
      "Validation epoch [5/10]: 100%|██████████| 63/63 [00:00<00:00, 103.21it/s]\n"
     ]
    },
    {
     "name": "stdout",
     "output_type": "stream",
     "text": [
      "Validation Loss: 0.4893 | \n",
      "\n",
      "Accuracy: 0.8750 | \n",
      "F1 Score: 0.8176\n"
     ]
    },
    {
     "name": "stderr",
     "output_type": "stream",
     "text": [
      "Training epoch [6/10]: 100%|██████████| 563/563 [00:16<00:00, 34.20it/s, loss_entailment=0.0722]\n",
      "Validation epoch [6/10]: 100%|██████████| 63/63 [00:00<00:00, 104.72it/s]\n"
     ]
    },
    {
     "name": "stdout",
     "output_type": "stream",
     "text": [
      "Validation Loss: 0.5191 | \n",
      "\n",
      "Accuracy: 0.8671 | \n",
      "F1 Score: 0.8185\n"
     ]
    },
    {
     "name": "stderr",
     "output_type": "stream",
     "text": [
      "Training epoch [7/10]: 100%|██████████| 563/563 [00:42<00:00, 13.35it/s, loss_entailment=0.0589]\n",
      "Validation epoch [7/10]: 100%|██████████| 63/63 [00:03<00:00, 19.54it/s]\n"
     ]
    },
    {
     "name": "stdout",
     "output_type": "stream",
     "text": [
      "Validation Loss: 0.5020 | \n",
      "\n",
      "Accuracy: 0.8710 | \n",
      "F1 Score: 0.8479\n"
     ]
    },
    {
     "name": "stderr",
     "output_type": "stream",
     "text": [
      "Training epoch [8/10]: 100%|██████████| 563/563 [00:41<00:00, 13.68it/s, loss_entailment=0.0397]\n",
      "Validation epoch [8/10]: 100%|██████████| 63/63 [00:00<00:00, 107.88it/s]\n"
     ]
    },
    {
     "name": "stdout",
     "output_type": "stream",
     "text": [
      "Validation Loss: 0.5299 | \n",
      "\n",
      "Accuracy: 0.8750 | \n",
      "F1 Score: 0.8489\n"
     ]
    },
    {
     "name": "stderr",
     "output_type": "stream",
     "text": [
      "Training epoch [9/10]: 100%|██████████| 563/563 [00:16<00:00, 33.95it/s, loss_entailment=0.0358]\n",
      "Validation epoch [9/10]: 100%|██████████| 63/63 [00:00<00:00, 108.51it/s]\n"
     ]
    },
    {
     "name": "stdout",
     "output_type": "stream",
     "text": [
      "Validation Loss: 0.5483 | \n",
      "\n",
      "Accuracy: 0.8651 | \n",
      "F1 Score: 0.8325\n"
     ]
    },
    {
     "name": "stderr",
     "output_type": "stream",
     "text": [
      "Training epoch [10/10]: 100%|██████████| 563/563 [00:16<00:00, 33.71it/s, loss_entailment=0.033] \n",
      "Validation epoch [10/10]: 100%|██████████| 63/63 [00:00<00:00, 104.84it/s]"
     ]
    },
    {
     "name": "stdout",
     "output_type": "stream",
     "text": [
      "Validation Loss: 0.6675 | \n",
      "\n",
      "Accuracy: 0.8690 | \n",
      "F1 Score: 0.8227\n"
     ]
    },
    {
     "name": "stderr",
     "output_type": "stream",
     "text": [
      "\n"
     ]
    }
   ],
   "source": [
    "for ep in range(epochs):\n",
    "    pbar = tqdm(dl_train)\n",
    "    pbar.set_description(f\"Training epoch [{ep+1}/{epochs}]\")\n",
    "    entailment_judgment_model.train()\n",
    "    total_train_loss = 0\n",
    "    for batch in pbar:\n",
    "        optimizer_entailment_judgment_model.zero_grad()\n",
    "        input_ids = batch['input_ids'].to(device)\n",
    "        attention_mask = batch['attention_mask'].to(device)\n",
    "        token_type_ids = batch['token_type_ids'].to(device)\n",
    "        entailment_judgments = batch['entailment_judgment'].to(device)\n",
    "        outputs = entailment_judgment_model(input_ids=input_ids, attention_mask=attention_mask, token_type_ids=token_type_ids)\n",
    "\n",
    "        loss_entailment = loss_fn_entailment(outputs, entailment_judgments)\n",
    "\n",
    "        total_train_loss += loss_entailment.item()\n",
    "        loss_entailment.backward()\n",
    "        optimizer_entailment_judgment_model.step()\n",
    "        pbar.set_postfix(loss_entailment=total_train_loss / (pbar.n + 1))\n",
    "\n",
    "    pbar = tqdm(dl_validation)\n",
    "    pbar.set_description(f\"Validation epoch [{ep+1}/{epochs}]\")\n",
    "    entailment_judgment_model.eval()\n",
    "    total_val_loss = 0\n",
    "    spc_score = 0\n",
    "    acc_score = 0\n",
    "    f1_score = 0\n",
    "    with torch.no_grad():\n",
    "        for batch in pbar:\n",
    "            # Move batch to device\n",
    "            input_ids = batch['input_ids'].to(device)\n",
    "            attention_mask = batch['attention_mask'].to(device)\n",
    "            token_type_ids = batch['token_type_ids'].to(device)\n",
    "            entailment_judgments = batch['entailment_judgment'].to(device)\n",
    "\n",
    "            outputs = entailment_judgment_model(input_ids=input_ids, attention_mask=attention_mask, token_type_ids=token_type_ids)\n",
    "\n",
    "            loss_entailment = loss_fn_entailment(outputs, entailment_judgments)\n",
    "            val_loss = loss_entailment\n",
    "            total_val_loss += val_loss.item()\n",
    "\n",
    "            acc_score += acc(outputs.cpu(), entailment_judgments.cpu())\n",
    "            f1_score += f1(outputs.cpu(), entailment_judgments.cpu())\n",
    "\n",
    "        avg_val_loss = total_val_loss / len(dl_validation)\n",
    "        avg_acc = acc_score / len(dl_validation)\n",
    "        avg_f1 = f1_score / len(dl_validation)\n",
    "\n",
    "        print(f\"Validation Loss: {avg_val_loss:.4f} | \\n\\nAccuracy: {avg_acc:.4f} | \\nF1 Score: {avg_f1:.4f}\")"
   ]
  },
  {
   "cell_type": "code",
   "execution_count": null,
   "metadata": {},
   "outputs": [
    {
     "data": {
      "image/png": "[encoded data removed]",
      "text/plain": [
       "<Figure size 1000x600 with 2 Axes>"
      ]
     },
     "metadata": {},
     "output_type": "display_data"
    }
   ],
   "source": [
    "import matplotlib.pyplot as plt\n",
    "##(Ploting code is generate with ChatGPT)\n",
    "# Training and validation data\n",
    "epochs = list(range(1, 11))\n",
    "loss_relatedness = [0.783, 0.242, 0.184, 0.144, 0.114, 0.0935, 0.0819, 0.0681, 0.0599, 0.0536]\n",
    "validation_loss = [0.3371, 0.2886, 0.2373, 0.2549, 0.2783, 0.2299, 0.2953, 0.2706, 0.2785, 0.2641]\n",
    "spearman_corr = [0.7317, 0.7467, 0.7257, 0.7626, 0.7608, 0.7855, 0.7777, 0.7999, 0.7783, 0.7760]\n",
    "\n",
    "# Plotting\n",
    "fig, ax1 = plt.subplots(figsize=(10, 6))\n",
    "\n",
    "# Plot Loss\n",
    "ax1.plot(epochs, loss_relatedness, label='Loss (Relatedness)', color='blue', marker='o')\n",
    "ax1.plot(epochs, validation_loss, label='Validation Loss', color='orange', marker='o')\n",
    "ax1.set_xlabel('Epoch')\n",
    "ax1.set_ylabel('Loss')\n",
    "ax1.legend(loc='upper right')\n",
    "\n",
    "# Plot Spearman Correlation on a secondary y-axis\n",
    "ax2 = ax1.twinx()\n",
    "ax2.plot(epochs, spearman_corr, label='Spearman Corr', color='green', marker='o')\n",
    "ax2.set_ylabel('Spearman Correlation')\n",
    "ax2.legend(loc='lower right')\n",
    "\n",
    "plt.title('Training Progression: Loss and Spearman Correlation Over Epochs')\n",
    "plt.show()"
   ]
  },
  {
   "cell_type": "code",
   "execution_count": null,
   "metadata": {},
   "outputs": [
    {
     "data": {
      "image/png": "[encoded data removed]",
      "text/plain": [
       "<Figure size 1000x600 with 2 Axes>"
      ]
     },
     "metadata": {},
     "output_type": "display_data"
    }
   ],
   "source": [
    "##(Ploting code is generate with ChatGPT)\n",
    "loss_entailment = [0.608, 0.344, 0.229, 0.147, 0.104, 0.0722, 0.0589, 0.0397, 0.0358, 0.033]\n",
    "validation_loss = [0.3866, 0.3465, 0.3648, 0.3961, 0.4893, 0.5191, 0.5020, 0.5299, 0.5483, 0.6675]\n",
    "accuracy = [0.8492, 0.8671, 0.8651, 0.8671, 0.8750, 0.8671, 0.8710, 0.8750, 0.8651, 0.8690]\n",
    "f1_score = [0.8143, 0.8238, 0.8439, 0.8183, 0.8176, 0.8185, 0.8479, 0.8489, 0.8325, 0.8227]\n",
    "\n",
    "# Plotting\n",
    "fig, ax1 = plt.subplots(figsize=(10, 6))\n",
    "\n",
    "ax1.plot(epochs, loss_entailment, label='Loss (Entailment)', color='blue', marker='o')\n",
    "ax1.plot(epochs, validation_loss, label='Validation Loss', color='orange', marker='o')\n",
    "ax1.set_xlabel('Epoch')\n",
    "ax1.set_ylabel('Loss')\n",
    "ax1.legend(loc='upper right')\n",
    "\n",
    "ax2 = ax1.twinx()\n",
    "ax2.plot(epochs, accuracy, label='Accuracy', color='green', marker='o')\n",
    "ax2.plot(epochs, f1_score, label='F1 Score', color='purple', marker='o')\n",
    "ax2.set_ylabel('Accuracy / F1 Score')\n",
    "ax2.legend(loc='lower right')\n",
    "\n",
    "plt.title('Training Progression: Loss, Accuracy, and F1 Score Over Epochs')\n",
    "plt.show()"
   ]
  },
  {
   "cell_type": "code",
   "execution_count": null,
   "metadata": {},
   "outputs": [],
   "source": []
  }
 ],
 "metadata": {
  "accelerator": "GPU",
  "colab": {
   "gpuType": "T4",
   "provenance": []
  },
  "kernelspec": {
   "display_name": "yolov7",
   "language": "python",
   "name": "python3"
  },
  "language_info": {
   "codemirror_mode": {
    "name": "ipython",
    "version": 3
   },
   "file_extension": ".py",
   "mimetype": "text/x-python",
   "name": "python",
   "nbconvert_exporter": "python",
   "pygments_lexer": "ipython3",
   "version": "3.8.16"
  },
  "widgets": {
   "application/vnd.jupyter.widget-state+json": {
    "0bd01a442c5f4c1e818c783807e5d4ea": {
     "model_module": "@jupyter-widgets/base",
     "model_module_version": "1.2.0",
     "model_name": "LayoutModel",
     "state": {
      "_model_module": "@jupyter-widgets/base",
      "_model_module_version": "1.2.0",
      "_model_name": "LayoutModel",
      "_view_count": null,
      "_view_module": "@jupyter-widgets/base",
      "_view_module_version": "1.2.0",
      "_view_name": "LayoutView",
      "align_content": null,
      "align_items": null,
      "align_self": null,
      "border": null,
      "bottom": null,
      "display": null,
      "flex": null,
      "flex_flow": null,
      "grid_area": null,
      "grid_auto_columns": null,
      "grid_auto_flow": null,
      "grid_auto_rows": null,
      "grid_column": null,
      "grid_gap": null,
      "grid_row": null,
      "grid_template_areas": null,
      "grid_template_columns": null,
      "grid_template_rows": null,
      "height": null,
      "justify_content": null,
      "justify_items": null,
      "left": null,
      "margin": null,
      "max_height": null,
      "max_width": null,
      "min_height": null,
      "min_width": null,
      "object_fit": null,
      "object_position": null,
      "order": null,
      "overflow": null,
      "overflow_x": null,
      "overflow_y": null,
      "padding": null,
      "right": null,
      "top": null,
      "visibility": null,
      "width": null
     }
    },
    "0d2f20215b6347a8a100cdd716e865b8": {
     "model_module": "@jupyter-widgets/controls",
     "model_module_version": "1.5.0",
     "model_name": "FloatProgressModel",
     "state": {
      "_dom_classes": [],
      "_model_module": "@jupyter-widgets/controls",
      "_model_module_version": "1.5.0",
      "_model_name": "FloatProgressModel",
      "_view_count": null,
      "_view_module": "@jupyter-widgets/controls",
      "_view_module_version": "1.5.0",
      "_view_name": "ProgressView",
      "bar_style": "success",
      "description": "",
      "description_tooltip": null,
      "layout": "IPY_MODEL_b2652b40d31f4566a5d4e663c46ae117",
      "max": 440449768,
      "min": 0,
      "orientation": "horizontal",
      "style": "IPY_MODEL_3517d6ffeb934d3bacb88b7020494467",
      "value": 440449768
     }
    },
    "2ea2c044e970451abc6387bb8b7c5ba7": {
     "model_module": "@jupyter-widgets/base",
     "model_module_version": "1.2.0",
     "model_name": "LayoutModel",
     "state": {
      "_model_module": "@jupyter-widgets/base",
      "_model_module_version": "1.2.0",
      "_model_name": "LayoutModel",
      "_view_count": null,
      "_view_module": "@jupyter-widgets/base",
      "_view_module_version": "1.2.0",
      "_view_name": "LayoutView",
      "align_content": null,
      "align_items": null,
      "align_self": null,
      "border": null,
      "bottom": null,
      "display": null,
      "flex": null,
      "flex_flow": null,
      "grid_area": null,
      "grid_auto_columns": null,
      "grid_auto_flow": null,
      "grid_auto_rows": null,
      "grid_column": null,
      "grid_gap": null,
      "grid_row": null,
      "grid_template_areas": null,
      "grid_template_columns": null,
      "grid_template_rows": null,
      "height": null,
      "justify_content": null,
      "justify_items": null,
      "left": null,
      "margin": null,
      "max_height": null,
      "max_width": null,
      "min_height": null,
      "min_width": null,
      "object_fit": null,
      "object_position": null,
      "order": null,
      "overflow": null,
      "overflow_x": null,
      "overflow_y": null,
      "padding": null,
      "right": null,
      "top": null,
      "visibility": null,
      "width": null
     }
    },
    "3057a7f4e37641e9a12e566eb874e4d9": {
     "model_module": "@jupyter-widgets/controls",
     "model_module_version": "1.5.0",
     "model_name": "HBoxModel",
     "state": {
      "_dom_classes": [],
      "_model_module": "@jupyter-widgets/controls",
      "_model_module_version": "1.5.0",
      "_model_name": "HBoxModel",
      "_view_count": null,
      "_view_module": "@jupyter-widgets/controls",
      "_view_module_version": "1.5.0",
      "_view_name": "HBoxView",
      "box_style": "",
      "children": [
       "IPY_MODEL_47320d9244954e5aa479921b841663ba",
       "IPY_MODEL_0d2f20215b6347a8a100cdd716e865b8",
       "IPY_MODEL_5932f8cee8584dc5920744a00c2f03fe"
      ],
      "layout": "IPY_MODEL_36a9de5968fe49dfbae39154fd9d1c1e"
     }
    },
    "3517d6ffeb934d3bacb88b7020494467": {
     "model_module": "@jupyter-widgets/controls",
     "model_module_version": "1.5.0",
     "model_name": "ProgressStyleModel",
     "state": {
      "_model_module": "@jupyter-widgets/controls",
      "_model_module_version": "1.5.0",
      "_model_name": "ProgressStyleModel",
      "_view_count": null,
      "_view_module": "@jupyter-widgets/base",
      "_view_module_version": "1.2.0",
      "_view_name": "StyleView",
      "bar_color": null,
      "description_width": ""
     }
    },
    "36a9de5968fe49dfbae39154fd9d1c1e": {
     "model_module": "@jupyter-widgets/base",
     "model_module_version": "1.2.0",
     "model_name": "LayoutModel",
     "state": {
      "_model_module": "@jupyter-widgets/base",
      "_model_module_version": "1.2.0",
      "_model_name": "LayoutModel",
      "_view_count": null,
      "_view_module": "@jupyter-widgets/base",
      "_view_module_version": "1.2.0",
      "_view_name": "LayoutView",
      "align_content": null,
      "align_items": null,
      "align_self": null,
      "border": null,
      "bottom": null,
      "display": null,
      "flex": null,
      "flex_flow": null,
      "grid_area": null,
      "grid_auto_columns": null,
      "grid_auto_flow": null,
      "grid_auto_rows": null,
      "grid_column": null,
      "grid_gap": null,
      "grid_row": null,
      "grid_template_areas": null,
      "grid_template_columns": null,
      "grid_template_rows": null,
      "height": null,
      "justify_content": null,
      "justify_items": null,
      "left": null,
      "margin": null,
      "max_height": null,
      "max_width": null,
      "min_height": null,
      "min_width": null,
      "object_fit": null,
      "object_position": null,
      "order": null,
      "overflow": null,
      "overflow_x": null,
      "overflow_y": null,
      "padding": null,
      "right": null,
      "top": null,
      "visibility": null,
      "width": null
     }
    },
    "47320d9244954e5aa479921b841663ba": {
     "model_module": "@jupyter-widgets/controls",
     "model_module_version": "1.5.0",
     "model_name": "HTMLModel",
     "state": {
      "_dom_classes": [],
      "_model_module": "@jupyter-widgets/controls",
      "_model_module_version": "1.5.0",
      "_model_name": "HTMLModel",
      "_view_count": null,
      "_view_module": "@jupyter-widgets/controls",
      "_view_module_version": "1.5.0",
      "_view_name": "HTMLView",
      "description": "",
      "description_tooltip": null,
      "layout": "IPY_MODEL_0bd01a442c5f4c1e818c783807e5d4ea",
      "placeholder": "​",
      "style": "IPY_MODEL_79b855339cb64134a84ae5c9851573e2",
      "value": "model.safetensors: 100%"
     }
    },
    "50c79469e2f348d8b272ccff86ed9c9d": {
     "model_module": "@jupyter-widgets/controls",
     "model_module_version": "1.5.0",
     "model_name": "ProgressStyleModel",
     "state": {
      "_model_module": "@jupyter-widgets/controls",
      "_model_module_version": "1.5.0",
      "_model_name": "ProgressStyleModel",
      "_view_count": null,
      "_view_module": "@jupyter-widgets/base",
      "_view_module_version": "1.2.0",
      "_view_name": "StyleView",
      "bar_color": null,
      "description_width": ""
     }
    },
    "5932f8cee8584dc5920744a00c2f03fe": {
     "model_module": "@jupyter-widgets/controls",
     "model_module_version": "1.5.0",
     "model_name": "HTMLModel",
     "state": {
      "_dom_classes": [],
      "_model_module": "@jupyter-widgets/controls",
      "_model_module_version": "1.5.0",
      "_model_name": "HTMLModel",
      "_view_count": null,
      "_view_module": "@jupyter-widgets/controls",
      "_view_module_version": "1.5.0",
      "_view_name": "HTMLView",
      "description": "",
      "description_tooltip": null,
      "layout": "IPY_MODEL_9d47bd982cec4ed8a0e1aadb34a37f13",
      "placeholder": "​",
      "style": "IPY_MODEL_cebc503b16f74f588eac4dbb381e7494",
      "value": " 440M/440M [00:02&lt;00:00, 223MB/s]"
     }
    },
    "79b855339cb64134a84ae5c9851573e2": {
     "model_module": "@jupyter-widgets/controls",
     "model_module_version": "1.5.0",
     "model_name": "DescriptionStyleModel",
     "state": {
      "_model_module": "@jupyter-widgets/controls",
      "_model_module_version": "1.5.0",
      "_model_name": "DescriptionStyleModel",
      "_view_count": null,
      "_view_module": "@jupyter-widgets/base",
      "_view_module_version": "1.2.0",
      "_view_name": "StyleView",
      "description_width": ""
     }
    },
    "91b275583751446395c784187a4408c2": {
     "model_module": "@jupyter-widgets/controls",
     "model_module_version": "1.5.0",
     "model_name": "HBoxModel",
     "state": {
      "_dom_classes": [],
      "_model_module": "@jupyter-widgets/controls",
      "_model_module_version": "1.5.0",
      "_model_name": "HBoxModel",
      "_view_count": null,
      "_view_module": "@jupyter-widgets/controls",
      "_view_module_version": "1.5.0",
      "_view_name": "HBoxView",
      "box_style": "",
      "children": [
       "IPY_MODEL_ed61b1ac80a64eaea1e0f740b696e370",
       "IPY_MODEL_a9f431d1360e483db37016bf57ece5ca",
       "IPY_MODEL_94b898c6926f4852922f80a3b19b3183"
      ],
      "layout": "IPY_MODEL_d36239f24d0c42388a2df02f07a87715"
     }
    },
    "94b898c6926f4852922f80a3b19b3183": {
     "model_module": "@jupyter-widgets/controls",
     "model_module_version": "1.5.0",
     "model_name": "HTMLModel",
     "state": {
      "_dom_classes": [],
      "_model_module": "@jupyter-widgets/controls",
      "_model_module_version": "1.5.0",
      "_model_name": "HTMLModel",
      "_view_count": null,
      "_view_module": "@jupyter-widgets/controls",
      "_view_module_version": "1.5.0",
      "_view_name": "HTMLView",
      "description": "",
      "description_tooltip": null,
      "layout": "IPY_MODEL_e714fe46764149dab9065b773da23d85",
      "placeholder": "​",
      "style": "IPY_MODEL_b1897461c16a4f9982343ba01b3be71a",
      "value": " 570/570 [00:00&lt;00:00, 6.39kB/s]"
     }
    },
    "9d47bd982cec4ed8a0e1aadb34a37f13": {
     "model_module": "@jupyter-widgets/base",
     "model_module_version": "1.2.0",
     "model_name": "LayoutModel",
     "state": {
      "_model_module": "@jupyter-widgets/base",
      "_model_module_version": "1.2.0",
      "_model_name": "LayoutModel",
      "_view_count": null,
      "_view_module": "@jupyter-widgets/base",
      "_view_module_version": "1.2.0",
      "_view_name": "LayoutView",
      "align_content": null,
      "align_items": null,
      "align_self": null,
      "border": null,
      "bottom": null,
      "display": null,
      "flex": null,
      "flex_flow": null,
      "grid_area": null,
      "grid_auto_columns": null,
      "grid_auto_flow": null,
      "grid_auto_rows": null,
      "grid_column": null,
      "grid_gap": null,
      "grid_row": null,
      "grid_template_areas": null,
      "grid_template_columns": null,
      "grid_template_rows": null,
      "height": null,
      "justify_content": null,
      "justify_items": null,
      "left": null,
      "margin": null,
      "max_height": null,
      "max_width": null,
      "min_height": null,
      "min_width": null,
      "object_fit": null,
      "object_position": null,
      "order": null,
      "overflow": null,
      "overflow_x": null,
      "overflow_y": null,
      "padding": null,
      "right": null,
      "top": null,
      "visibility": null,
      "width": null
     }
    },
    "a9f431d1360e483db37016bf57ece5ca": {
     "model_module": "@jupyter-widgets/controls",
     "model_module_version": "1.5.0",
     "model_name": "FloatProgressModel",
     "state": {
      "_dom_classes": [],
      "_model_module": "@jupyter-widgets/controls",
      "_model_module_version": "1.5.0",
      "_model_name": "FloatProgressModel",
      "_view_count": null,
      "_view_module": "@jupyter-widgets/controls",
      "_view_module_version": "1.5.0",
      "_view_name": "ProgressView",
      "bar_style": "success",
      "description": "",
      "description_tooltip": null,
      "layout": "IPY_MODEL_adac5bfe149f4e56b8d3ba710ca85e28",
      "max": 570,
      "min": 0,
      "orientation": "horizontal",
      "style": "IPY_MODEL_50c79469e2f348d8b272ccff86ed9c9d",
      "value": 570
     }
    },
    "adac5bfe149f4e56b8d3ba710ca85e28": {
     "model_module": "@jupyter-widgets/base",
     "model_module_version": "1.2.0",
     "model_name": "LayoutModel",
     "state": {
      "_model_module": "@jupyter-widgets/base",
      "_model_module_version": "1.2.0",
      "_model_name": "LayoutModel",
      "_view_count": null,
      "_view_module": "@jupyter-widgets/base",
      "_view_module_version": "1.2.0",
      "_view_name": "LayoutView",
      "align_content": null,
      "align_items": null,
      "align_self": null,
      "border": null,
      "bottom": null,
      "display": null,
      "flex": null,
      "flex_flow": null,
      "grid_area": null,
      "grid_auto_columns": null,
      "grid_auto_flow": null,
      "grid_auto_rows": null,
      "grid_column": null,
      "grid_gap": null,
      "grid_row": null,
      "grid_template_areas": null,
      "grid_template_columns": null,
      "grid_template_rows": null,
      "height": null,
      "justify_content": null,
      "justify_items": null,
      "left": null,
      "margin": null,
      "max_height": null,
      "max_width": null,
      "min_height": null,
      "min_width": null,
      "object_fit": null,
      "object_position": null,
      "order": null,
      "overflow": null,
      "overflow_x": null,
      "overflow_y": null,
      "padding": null,
      "right": null,
      "top": null,
      "visibility": null,
      "width": null
     }
    },
    "ae6db5e2bee24d3194583d7777d73edb": {
     "model_module": "@jupyter-widgets/controls",
     "model_module_version": "1.5.0",
     "model_name": "DescriptionStyleModel",
     "state": {
      "_model_module": "@jupyter-widgets/controls",
      "_model_module_version": "1.5.0",
      "_model_name": "DescriptionStyleModel",
      "_view_count": null,
      "_view_module": "@jupyter-widgets/base",
      "_view_module_version": "1.2.0",
      "_view_name": "StyleView",
      "description_width": ""
     }
    },
    "b1897461c16a4f9982343ba01b3be71a": {
     "model_module": "@jupyter-widgets/controls",
     "model_module_version": "1.5.0",
     "model_name": "DescriptionStyleModel",
     "state": {
      "_model_module": "@jupyter-widgets/controls",
      "_model_module_version": "1.5.0",
      "_model_name": "DescriptionStyleModel",
      "_view_count": null,
      "_view_module": "@jupyter-widgets/base",
      "_view_module_version": "1.2.0",
      "_view_name": "StyleView",
      "description_width": ""
     }
    },
    "b2652b40d31f4566a5d4e663c46ae117": {
     "model_module": "@jupyter-widgets/base",
     "model_module_version": "1.2.0",
     "model_name": "LayoutModel",
     "state": {
      "_model_module": "@jupyter-widgets/base",
      "_model_module_version": "1.2.0",
      "_model_name": "LayoutModel",
      "_view_count": null,
      "_view_module": "@jupyter-widgets/base",
      "_view_module_version": "1.2.0",
      "_view_name": "LayoutView",
      "align_content": null,
      "align_items": null,
      "align_self": null,
      "border": null,
      "bottom": null,
      "display": null,
      "flex": null,
      "flex_flow": null,
      "grid_area": null,
      "grid_auto_columns": null,
      "grid_auto_flow": null,
      "grid_auto_rows": null,
      "grid_column": null,
      "grid_gap": null,
      "grid_row": null,
      "grid_template_areas": null,
      "grid_template_columns": null,
      "grid_template_rows": null,
      "height": null,
      "justify_content": null,
      "justify_items": null,
      "left": null,
      "margin": null,
      "max_height": null,
      "max_width": null,
      "min_height": null,
      "min_width": null,
      "object_fit": null,
      "object_position": null,
      "order": null,
      "overflow": null,
      "overflow_x": null,
      "overflow_y": null,
      "padding": null,
      "right": null,
      "top": null,
      "visibility": null,
      "width": null
     }
    },
    "cebc503b16f74f588eac4dbb381e7494": {
     "model_module": "@jupyter-widgets/controls",
     "model_module_version": "1.5.0",
     "model_name": "DescriptionStyleModel",
     "state": {
      "_model_module": "@jupyter-widgets/controls",
      "_model_module_version": "1.5.0",
      "_model_name": "DescriptionStyleModel",
      "_view_count": null,
      "_view_module": "@jupyter-widgets/base",
      "_view_module_version": "1.2.0",
      "_view_name": "StyleView",
      "description_width": ""
     }
    },
    "d36239f24d0c42388a2df02f07a87715": {
     "model_module": "@jupyter-widgets/base",
     "model_module_version": "1.2.0",
     "model_name": "LayoutModel",
     "state": {
      "_model_module": "@jupyter-widgets/base",
      "_model_module_version": "1.2.0",
      "_model_name": "LayoutModel",
      "_view_count": null,
      "_view_module": "@jupyter-widgets/base",
      "_view_module_version": "1.2.0",
      "_view_name": "LayoutView",
      "align_content": null,
      "align_items": null,
      "align_self": null,
      "border": null,
      "bottom": null,
      "display": null,
      "flex": null,
      "flex_flow": null,
      "grid_area": null,
      "grid_auto_columns": null,
      "grid_auto_flow": null,
      "grid_auto_rows": null,
      "grid_column": null,
      "grid_gap": null,
      "grid_row": null,
      "grid_template_areas": null,
      "grid_template_columns": null,
      "grid_template_rows": null,
      "height": null,
      "justify_content": null,
      "justify_items": null,
      "left": null,
      "margin": null,
      "max_height": null,
      "max_width": null,
      "min_height": null,
      "min_width": null,
      "object_fit": null,
      "object_position": null,
      "order": null,
      "overflow": null,
      "overflow_x": null,
      "overflow_y": null,
      "padding": null,
      "right": null,
      "top": null,
      "visibility": null,
      "width": null
     }
    },
    "e714fe46764149dab9065b773da23d85": {
     "model_module": "@jupyter-widgets/base",
     "model_module_version": "1.2.0",
     "model_name": "LayoutModel",
     "state": {
      "_model_module": "@jupyter-widgets/base",
      "_model_module_version": "1.2.0",
      "_model_name": "LayoutModel",
      "_view_count": null,
      "_view_module": "@jupyter-widgets/base",
      "_view_module_version": "1.2.0",
      "_view_name": "LayoutView",
      "align_content": null,
      "align_items": null,
      "align_self": null,
      "border": null,
      "bottom": null,
      "display": null,
      "flex": null,
      "flex_flow": null,
      "grid_area": null,
      "grid_auto_columns": null,
      "grid_auto_flow": null,
      "grid_auto_rows": null,
      "grid_column": null,
      "grid_gap": null,
      "grid_row": null,
      "grid_template_areas": null,
      "grid_template_columns": null,
      "grid_template_rows": null,
      "height": null,
      "justify_content": null,
      "justify_items": null,
      "left": null,
      "margin": null,
      "max_height": null,
      "max_width": null,
      "min_height": null,
      "min_width": null,
      "object_fit": null,
      "object_position": null,
      "order": null,
      "overflow": null,
      "overflow_x": null,
      "overflow_y": null,
      "padding": null,
      "right": null,
      "top": null,
      "visibility": null,
      "width": null
     }
    },
    "ed61b1ac80a64eaea1e0f740b696e370": {
     "model_module": "@jupyter-widgets/controls",
     "model_module_version": "1.5.0",
     "model_name": "HTMLModel",
     "state": {
      "_dom_classes": [],
      "_model_module": "@jupyter-widgets/controls",
      "_model_module_version": "1.5.0",
      "_model_name": "HTMLModel",
      "_view_count": null,
      "_view_module": "@jupyter-widgets/controls",
      "_view_module_version": "1.5.0",
      "_view_name": "HTMLView",
      "description": "",
      "description_tooltip": null,
      "layout": "IPY_MODEL_2ea2c044e970451abc6387bb8b7c5ba7",
      "placeholder": "​",
      "style": "IPY_MODEL_ae6db5e2bee24d3194583d7777d73edb",
      "value": "config.json: 100%"
     }
    }
   }
  }
 },
 "nbformat": 4,
 "nbformat_minor": 0
}
